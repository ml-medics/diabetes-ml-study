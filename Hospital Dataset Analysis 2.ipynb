{
 "cells": [
  {
   "cell_type": "markdown",
   "metadata": {},
   "source": [
    "### Data Mining on Hospital Dataset\n",
    "\n",
    "This notebook looks at the Hospital dataset and builds a model to predict the onset of diabetes"
   ]
  },
  {
   "cell_type": "markdown",
   "metadata": {},
   "source": [
    "### Imports"
   ]
  },
  {
   "cell_type": "code",
   "execution_count": 3,
   "metadata": {},
   "outputs": [],
   "source": [
    "from sklearn.metrics import accuracy_score, confusion_matrix, classification_report\n",
    "from sklearn.naive_bayes import GaussianNB, MultinomialNB\n",
    "from sklearn.neural_network import MLPClassifier\n",
    "from sklearn.model_selection import train_test_split\n",
    "from sklearn.tree import DecisionTreeClassifier, export_graphviz\n",
    "from sklearn.ensemble import RandomForestClassifier, RandomForestRegressor\n",
    "from sklearn.linear_model import LogisticRegression, LinearRegression\n",
    "from sklearn.neural_network import MLPClassifier\n",
    "from sklearn.preprocessing import Imputer\n",
    "from sklearn.metrics import roc_curve\n",
    "import matplotlib.pyplot as plt\n",
    "from IPython.display import Markdown, display\n",
    "import matplotlib.patches as mpatches\n",
    "from IPython.display import HTML\n",
    "from operator import itemgetter\n",
    "\n",
    "\n",
    "import pandas as pd\n",
    "import numpy as np\n",
    "\n",
    "\n",
    "# pd.options.mode.chained_assignment = None "
   ]
  },
  {
   "cell_type": "markdown",
   "metadata": {},
   "source": [
    "### Helper functions"
   ]
  },
  {
   "cell_type": "code",
   "execution_count": 48,
   "metadata": {},
   "outputs": [],
   "source": [
    "def print_bold(text):\n",
    "    display(Markdown(\"**{}**\".format(text)))\n",
    "    \n",
    "def print_color(text, color='red'):\n",
    "    display(HTML(\"<text style=color:{}>{}</text>\".format(color, text)))\n",
    "\n",
    "\n",
    "def display_confusion_matrix(target_test, target_predict):\n",
    "    print_bold('Confusion Matrix')\n",
    "    y_actu = pd.Series(target_test, name='Actual')\n",
    "    y_pred = pd.Series(target_predict, name='Predicted')\n",
    "    print(pd.crosstab(y_actu, y_pred))\n",
    "    \n",
    "# Basic graph plotting utility\n",
    "def plot_roc_curve(confusion_matrix_list, models, x_label, y_label, model_names=''):\n",
    "    \n",
    "    tpr_fpr_list = []\n",
    "    \n",
    "    for cm in confusion_matrix_list:\n",
    "    \n",
    "        tp = cm[1, 1]\n",
    "        tn = cm[0, 0]\n",
    "        fp = cm[0, 1]\n",
    "        fn = cm[1, 0]\n",
    "        \n",
    "        \n",
    "        tpr = tp / (tp + fn)\n",
    "        fpr = fp / (fp + tn)\n",
    "    \n",
    "        \n",
    "        tpr_fpr_list.append((round(fpr, 2), round(tpr , 2)))\n",
    "        \n",
    "    tpr_fpr_list.sort(key=itemgetter(1))\n",
    "    print(tpr_fpr_list)\n",
    "    \n",
    "    handles = []\n",
    "    \n",
    "    for model_name, model, color in models:\n",
    "        patch = mpatches.Patch(color=color, label=model_name)\n",
    "        handles.append(patch)\n",
    "        \n",
    "    fpr_list, tpr_list = zip(*tpr_fpr_list)\n",
    "    \n",
    "    fig, ax = plt.subplots()\n",
    "    plt.plot(fpr_list, tpr_list, 'bs-')\n",
    "    plt.xlabel(x_label)\n",
    "    plt.ylabel(y_label)\n",
    "    # ax.set_xlim([0,1])\n",
    "    # ax.set_ylim([0,1])\n",
    "\n",
    "    for idx, _   in enumerate(tpr_list):\n",
    "        \n",
    "        tpr = tpr_list[idx]\n",
    "        fpr = fpr_list[idx]\n",
    "#         plt.plot([fpr, fpr], [0, tpr], 'ks-') # vertical\n",
    "#         plt.plot([0, fpr], [tpr, tpr], 'ks-') # horizontal\n",
    "        plt.plot([fpr], [tpr], marker='o',  markersize=10, color=models[idx][2])\n",
    "    plt.legend(handles=handles)\n",
    "    plt.show()"
   ]
  },
  {
   "cell_type": "markdown",
   "metadata": {},
   "source": [
    "### Read dataset"
   ]
  },
  {
   "cell_type": "code",
   "execution_count": 4,
   "metadata": {},
   "outputs": [
    {
     "data": {
      "text/html": [
       "<div>\n",
       "<style scoped>\n",
       "    .dataframe tbody tr th:only-of-type {\n",
       "        vertical-align: middle;\n",
       "    }\n",
       "\n",
       "    .dataframe tbody tr th {\n",
       "        vertical-align: top;\n",
       "    }\n",
       "\n",
       "    .dataframe thead th {\n",
       "        text-align: right;\n",
       "    }\n",
       "</style>\n",
       "<table border=\"1\" class=\"dataframe\">\n",
       "  <thead>\n",
       "    <tr style=\"text-align: right;\">\n",
       "      <th></th>\n",
       "      <th>encounter_id</th>\n",
       "      <th>patient_nbr</th>\n",
       "      <th>race</th>\n",
       "      <th>gender</th>\n",
       "      <th>age</th>\n",
       "      <th>weight</th>\n",
       "      <th>admission_type_id</th>\n",
       "      <th>discharge_disposition_id</th>\n",
       "      <th>admission_source_id</th>\n",
       "      <th>time_in_hospital</th>\n",
       "      <th>...</th>\n",
       "      <th>citoglipton</th>\n",
       "      <th>insulin</th>\n",
       "      <th>glyburide-metformin</th>\n",
       "      <th>glipizide-metformin</th>\n",
       "      <th>glimepiride-pioglitazone</th>\n",
       "      <th>metformin-rosiglitazone</th>\n",
       "      <th>metformin-pioglitazone</th>\n",
       "      <th>change</th>\n",
       "      <th>diabetesMed</th>\n",
       "      <th>readmitted</th>\n",
       "    </tr>\n",
       "  </thead>\n",
       "  <tbody>\n",
       "    <tr>\n",
       "      <th>0</th>\n",
       "      <td>2278392</td>\n",
       "      <td>8222157</td>\n",
       "      <td>Caucasian</td>\n",
       "      <td>Female</td>\n",
       "      <td>[0-10)</td>\n",
       "      <td>?</td>\n",
       "      <td>6</td>\n",
       "      <td>25</td>\n",
       "      <td>1</td>\n",
       "      <td>1</td>\n",
       "      <td>...</td>\n",
       "      <td>No</td>\n",
       "      <td>No</td>\n",
       "      <td>No</td>\n",
       "      <td>No</td>\n",
       "      <td>No</td>\n",
       "      <td>No</td>\n",
       "      <td>No</td>\n",
       "      <td>No</td>\n",
       "      <td>No</td>\n",
       "      <td>NO</td>\n",
       "    </tr>\n",
       "    <tr>\n",
       "      <th>1</th>\n",
       "      <td>149190</td>\n",
       "      <td>55629189</td>\n",
       "      <td>Caucasian</td>\n",
       "      <td>Female</td>\n",
       "      <td>[10-20)</td>\n",
       "      <td>?</td>\n",
       "      <td>1</td>\n",
       "      <td>1</td>\n",
       "      <td>7</td>\n",
       "      <td>3</td>\n",
       "      <td>...</td>\n",
       "      <td>No</td>\n",
       "      <td>Up</td>\n",
       "      <td>No</td>\n",
       "      <td>No</td>\n",
       "      <td>No</td>\n",
       "      <td>No</td>\n",
       "      <td>No</td>\n",
       "      <td>Ch</td>\n",
       "      <td>Yes</td>\n",
       "      <td>&gt;30</td>\n",
       "    </tr>\n",
       "    <tr>\n",
       "      <th>2</th>\n",
       "      <td>64410</td>\n",
       "      <td>86047875</td>\n",
       "      <td>AfricanAmerican</td>\n",
       "      <td>Female</td>\n",
       "      <td>[20-30)</td>\n",
       "      <td>?</td>\n",
       "      <td>1</td>\n",
       "      <td>1</td>\n",
       "      <td>7</td>\n",
       "      <td>2</td>\n",
       "      <td>...</td>\n",
       "      <td>No</td>\n",
       "      <td>No</td>\n",
       "      <td>No</td>\n",
       "      <td>No</td>\n",
       "      <td>No</td>\n",
       "      <td>No</td>\n",
       "      <td>No</td>\n",
       "      <td>No</td>\n",
       "      <td>Yes</td>\n",
       "      <td>NO</td>\n",
       "    </tr>\n",
       "    <tr>\n",
       "      <th>3</th>\n",
       "      <td>500364</td>\n",
       "      <td>82442376</td>\n",
       "      <td>Caucasian</td>\n",
       "      <td>Male</td>\n",
       "      <td>[30-40)</td>\n",
       "      <td>?</td>\n",
       "      <td>1</td>\n",
       "      <td>1</td>\n",
       "      <td>7</td>\n",
       "      <td>2</td>\n",
       "      <td>...</td>\n",
       "      <td>No</td>\n",
       "      <td>Up</td>\n",
       "      <td>No</td>\n",
       "      <td>No</td>\n",
       "      <td>No</td>\n",
       "      <td>No</td>\n",
       "      <td>No</td>\n",
       "      <td>Ch</td>\n",
       "      <td>Yes</td>\n",
       "      <td>NO</td>\n",
       "    </tr>\n",
       "    <tr>\n",
       "      <th>4</th>\n",
       "      <td>16680</td>\n",
       "      <td>42519267</td>\n",
       "      <td>Caucasian</td>\n",
       "      <td>Male</td>\n",
       "      <td>[40-50)</td>\n",
       "      <td>?</td>\n",
       "      <td>1</td>\n",
       "      <td>1</td>\n",
       "      <td>7</td>\n",
       "      <td>1</td>\n",
       "      <td>...</td>\n",
       "      <td>No</td>\n",
       "      <td>Steady</td>\n",
       "      <td>No</td>\n",
       "      <td>No</td>\n",
       "      <td>No</td>\n",
       "      <td>No</td>\n",
       "      <td>No</td>\n",
       "      <td>Ch</td>\n",
       "      <td>Yes</td>\n",
       "      <td>NO</td>\n",
       "    </tr>\n",
       "  </tbody>\n",
       "</table>\n",
       "<p>5 rows × 50 columns</p>\n",
       "</div>"
      ],
      "text/plain": [
       "   encounter_id  patient_nbr             race  gender      age weight  \\\n",
       "0       2278392      8222157        Caucasian  Female   [0-10)      ?   \n",
       "1        149190     55629189        Caucasian  Female  [10-20)      ?   \n",
       "2         64410     86047875  AfricanAmerican  Female  [20-30)      ?   \n",
       "3        500364     82442376        Caucasian    Male  [30-40)      ?   \n",
       "4         16680     42519267        Caucasian    Male  [40-50)      ?   \n",
       "\n",
       "   admission_type_id  discharge_disposition_id  admission_source_id  \\\n",
       "0                  6                        25                    1   \n",
       "1                  1                         1                    7   \n",
       "2                  1                         1                    7   \n",
       "3                  1                         1                    7   \n",
       "4                  1                         1                    7   \n",
       "\n",
       "   time_in_hospital    ...     citoglipton insulin  glyburide-metformin  \\\n",
       "0                 1    ...              No      No                   No   \n",
       "1                 3    ...              No      Up                   No   \n",
       "2                 2    ...              No      No                   No   \n",
       "3                 2    ...              No      Up                   No   \n",
       "4                 1    ...              No  Steady                   No   \n",
       "\n",
       "   glipizide-metformin  glimepiride-pioglitazone  metformin-rosiglitazone  \\\n",
       "0                   No                        No                       No   \n",
       "1                   No                        No                       No   \n",
       "2                   No                        No                       No   \n",
       "3                   No                        No                       No   \n",
       "4                   No                        No                       No   \n",
       "\n",
       "   metformin-pioglitazone  change diabetesMed readmitted  \n",
       "0                      No      No          No         NO  \n",
       "1                      No      Ch         Yes        >30  \n",
       "2                      No      No         Yes         NO  \n",
       "3                      No      Ch         Yes         NO  \n",
       "4                      No      Ch         Yes         NO  \n",
       "\n",
       "[5 rows x 50 columns]"
      ]
     },
     "execution_count": 4,
     "metadata": {},
     "output_type": "execute_result"
    }
   ],
   "source": [
    "DATASET_NAME = 'dataset/diabetic_data.csv'\n",
    "COLUMNS = ['Pregnancies', 'Glucose', 'BloodPressure', 'SkinThickness', 'Insulin', 'DiabetesPedigreeFunction', 'Age']\n",
    "df = pd.read_csv(DATASET_NAME)\n",
    "df.head()"
   ]
  },
  {
   "cell_type": "markdown",
   "metadata": {},
   "source": [
    "### Find out missing values in the dataset"
   ]
  },
  {
   "cell_type": "code",
   "execution_count": 12,
   "metadata": {},
   "outputs": [
    {
     "name": "stdout",
     "output_type": "stream",
     "text": [
      "race :  2273\n",
      "gender :  0\n",
      "age :  0\n",
      "medical_specialty :  49949\n",
      "change :  0\n",
      "diabetesMed :  0\n",
      "readmitted :  0\n"
     ]
    }
   ],
   "source": [
    "attributes = ['race', 'gender', 'age', 'medical_specialty','change','diabetesMed', 'readmitted']\n",
    "for attr in attributes:\n",
    "    print(attr,\": \", sum(df[attr] == '?'))"
   ]
  },
  {
   "cell_type": "markdown",
   "metadata": {},
   "source": [
    "### Show statistics of the dataset"
   ]
  },
  {
   "cell_type": "code",
   "execution_count": 14,
   "metadata": {},
   "outputs": [
    {
     "data": {
      "text/html": [
       "<div>\n",
       "<style scoped>\n",
       "    .dataframe tbody tr th:only-of-type {\n",
       "        vertical-align: middle;\n",
       "    }\n",
       "\n",
       "    .dataframe tbody tr th {\n",
       "        vertical-align: top;\n",
       "    }\n",
       "\n",
       "    .dataframe thead th {\n",
       "        text-align: right;\n",
       "    }\n",
       "</style>\n",
       "<table border=\"1\" class=\"dataframe\">\n",
       "  <thead>\n",
       "    <tr style=\"text-align: right;\">\n",
       "      <th></th>\n",
       "      <th>count</th>\n",
       "      <th>mean</th>\n",
       "      <th>std</th>\n",
       "      <th>min</th>\n",
       "      <th>25%</th>\n",
       "      <th>50%</th>\n",
       "      <th>75%</th>\n",
       "      <th>max</th>\n",
       "    </tr>\n",
       "  </thead>\n",
       "  <tbody>\n",
       "    <tr>\n",
       "      <th>encounter_id</th>\n",
       "      <td>101766.0</td>\n",
       "      <td>1.652016e+08</td>\n",
       "      <td>1.026403e+08</td>\n",
       "      <td>12522.0</td>\n",
       "      <td>84961194.0</td>\n",
       "      <td>152388987.0</td>\n",
       "      <td>2.302709e+08</td>\n",
       "      <td>443867222.0</td>\n",
       "    </tr>\n",
       "    <tr>\n",
       "      <th>patient_nbr</th>\n",
       "      <td>101766.0</td>\n",
       "      <td>5.433040e+07</td>\n",
       "      <td>3.869636e+07</td>\n",
       "      <td>135.0</td>\n",
       "      <td>23413221.0</td>\n",
       "      <td>45505143.0</td>\n",
       "      <td>8.754595e+07</td>\n",
       "      <td>189502619.0</td>\n",
       "    </tr>\n",
       "    <tr>\n",
       "      <th>admission_type_id</th>\n",
       "      <td>101766.0</td>\n",
       "      <td>2.024006e+00</td>\n",
       "      <td>1.445403e+00</td>\n",
       "      <td>1.0</td>\n",
       "      <td>1.0</td>\n",
       "      <td>1.0</td>\n",
       "      <td>3.000000e+00</td>\n",
       "      <td>8.0</td>\n",
       "    </tr>\n",
       "    <tr>\n",
       "      <th>discharge_disposition_id</th>\n",
       "      <td>101766.0</td>\n",
       "      <td>3.715642e+00</td>\n",
       "      <td>5.280166e+00</td>\n",
       "      <td>1.0</td>\n",
       "      <td>1.0</td>\n",
       "      <td>1.0</td>\n",
       "      <td>4.000000e+00</td>\n",
       "      <td>28.0</td>\n",
       "    </tr>\n",
       "    <tr>\n",
       "      <th>admission_source_id</th>\n",
       "      <td>101766.0</td>\n",
       "      <td>5.754437e+00</td>\n",
       "      <td>4.064081e+00</td>\n",
       "      <td>1.0</td>\n",
       "      <td>1.0</td>\n",
       "      <td>7.0</td>\n",
       "      <td>7.000000e+00</td>\n",
       "      <td>25.0</td>\n",
       "    </tr>\n",
       "    <tr>\n",
       "      <th>time_in_hospital</th>\n",
       "      <td>101766.0</td>\n",
       "      <td>4.395987e+00</td>\n",
       "      <td>2.985108e+00</td>\n",
       "      <td>1.0</td>\n",
       "      <td>2.0</td>\n",
       "      <td>4.0</td>\n",
       "      <td>6.000000e+00</td>\n",
       "      <td>14.0</td>\n",
       "    </tr>\n",
       "    <tr>\n",
       "      <th>num_lab_procedures</th>\n",
       "      <td>101766.0</td>\n",
       "      <td>4.309564e+01</td>\n",
       "      <td>1.967436e+01</td>\n",
       "      <td>1.0</td>\n",
       "      <td>31.0</td>\n",
       "      <td>44.0</td>\n",
       "      <td>5.700000e+01</td>\n",
       "      <td>132.0</td>\n",
       "    </tr>\n",
       "    <tr>\n",
       "      <th>num_procedures</th>\n",
       "      <td>101766.0</td>\n",
       "      <td>1.339730e+00</td>\n",
       "      <td>1.705807e+00</td>\n",
       "      <td>0.0</td>\n",
       "      <td>0.0</td>\n",
       "      <td>1.0</td>\n",
       "      <td>2.000000e+00</td>\n",
       "      <td>6.0</td>\n",
       "    </tr>\n",
       "    <tr>\n",
       "      <th>num_medications</th>\n",
       "      <td>101766.0</td>\n",
       "      <td>1.602184e+01</td>\n",
       "      <td>8.127566e+00</td>\n",
       "      <td>1.0</td>\n",
       "      <td>10.0</td>\n",
       "      <td>15.0</td>\n",
       "      <td>2.000000e+01</td>\n",
       "      <td>81.0</td>\n",
       "    </tr>\n",
       "    <tr>\n",
       "      <th>number_outpatient</th>\n",
       "      <td>101766.0</td>\n",
       "      <td>3.693572e-01</td>\n",
       "      <td>1.267265e+00</td>\n",
       "      <td>0.0</td>\n",
       "      <td>0.0</td>\n",
       "      <td>0.0</td>\n",
       "      <td>0.000000e+00</td>\n",
       "      <td>42.0</td>\n",
       "    </tr>\n",
       "    <tr>\n",
       "      <th>number_emergency</th>\n",
       "      <td>101766.0</td>\n",
       "      <td>1.978362e-01</td>\n",
       "      <td>9.304723e-01</td>\n",
       "      <td>0.0</td>\n",
       "      <td>0.0</td>\n",
       "      <td>0.0</td>\n",
       "      <td>0.000000e+00</td>\n",
       "      <td>76.0</td>\n",
       "    </tr>\n",
       "    <tr>\n",
       "      <th>number_inpatient</th>\n",
       "      <td>101766.0</td>\n",
       "      <td>6.355659e-01</td>\n",
       "      <td>1.262863e+00</td>\n",
       "      <td>0.0</td>\n",
       "      <td>0.0</td>\n",
       "      <td>0.0</td>\n",
       "      <td>1.000000e+00</td>\n",
       "      <td>21.0</td>\n",
       "    </tr>\n",
       "    <tr>\n",
       "      <th>number_diagnoses</th>\n",
       "      <td>101766.0</td>\n",
       "      <td>7.422607e+00</td>\n",
       "      <td>1.933600e+00</td>\n",
       "      <td>1.0</td>\n",
       "      <td>6.0</td>\n",
       "      <td>8.0</td>\n",
       "      <td>9.000000e+00</td>\n",
       "      <td>16.0</td>\n",
       "    </tr>\n",
       "  </tbody>\n",
       "</table>\n",
       "</div>"
      ],
      "text/plain": [
       "                             count          mean           std      min  \\\n",
       "encounter_id              101766.0  1.652016e+08  1.026403e+08  12522.0   \n",
       "patient_nbr               101766.0  5.433040e+07  3.869636e+07    135.0   \n",
       "admission_type_id         101766.0  2.024006e+00  1.445403e+00      1.0   \n",
       "discharge_disposition_id  101766.0  3.715642e+00  5.280166e+00      1.0   \n",
       "admission_source_id       101766.0  5.754437e+00  4.064081e+00      1.0   \n",
       "time_in_hospital          101766.0  4.395987e+00  2.985108e+00      1.0   \n",
       "num_lab_procedures        101766.0  4.309564e+01  1.967436e+01      1.0   \n",
       "num_procedures            101766.0  1.339730e+00  1.705807e+00      0.0   \n",
       "num_medications           101766.0  1.602184e+01  8.127566e+00      1.0   \n",
       "number_outpatient         101766.0  3.693572e-01  1.267265e+00      0.0   \n",
       "number_emergency          101766.0  1.978362e-01  9.304723e-01      0.0   \n",
       "number_inpatient          101766.0  6.355659e-01  1.262863e+00      0.0   \n",
       "number_diagnoses          101766.0  7.422607e+00  1.933600e+00      1.0   \n",
       "\n",
       "                                 25%          50%           75%          max  \n",
       "encounter_id              84961194.0  152388987.0  2.302709e+08  443867222.0  \n",
       "patient_nbr               23413221.0   45505143.0  8.754595e+07  189502619.0  \n",
       "admission_type_id                1.0          1.0  3.000000e+00          8.0  \n",
       "discharge_disposition_id         1.0          1.0  4.000000e+00         28.0  \n",
       "admission_source_id              1.0          7.0  7.000000e+00         25.0  \n",
       "time_in_hospital                 2.0          4.0  6.000000e+00         14.0  \n",
       "num_lab_procedures              31.0         44.0  5.700000e+01        132.0  \n",
       "num_procedures                   0.0          1.0  2.000000e+00          6.0  \n",
       "num_medications                 10.0         15.0  2.000000e+01         81.0  \n",
       "number_outpatient                0.0          0.0  0.000000e+00         42.0  \n",
       "number_emergency                 0.0          0.0  0.000000e+00         76.0  \n",
       "number_inpatient                 0.0          0.0  1.000000e+00         21.0  \n",
       "number_diagnoses                 6.0          8.0  9.000000e+00         16.0  "
      ]
     },
     "execution_count": 14,
     "metadata": {},
     "output_type": "execute_result"
    }
   ],
   "source": [
    "df.describe().transpose()"
   ]
  },
  {
   "cell_type": "markdown",
   "metadata": {},
   "source": [
    "### Drop columns\n",
    "Drop attributes like IDs and other attributes with 50% missing field"
   ]
  },
  {
   "cell_type": "code",
   "execution_count": null,
   "metadata": {},
   "outputs": [],
   "source": [
    "bad_features = ['encounter_id', 'patient_nbr','weight', 'payer_code','admission_type_id','discharge_disposition_id','admission_source_id', 'num_lab_procedures', 'num_procedures','num_medications', 'number_outpatient', 'number_emergency','number_inpatient', 'diag_1', 'diag_2', 'diag_3','number_diagnoses','examide','citoglipton']\n",
    "df.drop(bad_features, inplace=True, axis =1)"
   ]
  },
  {
   "cell_type": "markdown",
   "metadata": {},
   "source": [
    "### Replace missing values"
   ]
  },
  {
   "cell_type": "code",
   "execution_count": null,
   "metadata": {},
   "outputs": [],
   "source": [
    "df.loc[df['medical_specialty'] == \"?\", 'medical_specialty'] = 'Family/GeneralPractice'\n",
    "df.loc[df['race'] == \"?\", 'race'] = 'Other'\n",
    "\n",
    "df['medical_specialty'] = df['medical_specialty'].replace(['\"?\"', ''], 'General')\n",
    "df['medical_specialty'] = df['medical_specialty'].replace(['\"?\"', ''], 'General')"
   ]
  },
  {
   "cell_type": "markdown",
   "metadata": {},
   "source": [
    "### One Hot Encoding"
   ]
  },
  {
   "cell_type": "code",
   "execution_count": 20,
   "metadata": {},
   "outputs": [
    {
     "data": {
      "text/plain": [
       "array(['encounter_id', 'patient_nbr', 'weight', 'admission_type_id',\n",
       "       'discharge_disposition_id', 'admission_source_id',\n",
       "       'time_in_hospital', 'payer_code', 'num_lab_procedures',\n",
       "       'num_procedures', 'num_medications', 'number_outpatient',\n",
       "       'number_emergency', 'number_inpatient', 'diag_1', 'diag_2',\n",
       "       'diag_3', 'number_diagnoses', 'examide', 'citoglipton',\n",
       "       'diabetesMed', 'race_?', 'race_AfricanAmerican', 'race_Asian',\n",
       "       'race_Caucasian', 'race_Hispanic', 'race_Other', 'gender_Female',\n",
       "       'gender_Male', 'gender_Unknown/Invalid', 'age_[0-10)',\n",
       "       'age_[10-20)', 'age_[20-30)', 'age_[30-40)', 'age_[40-50)',\n",
       "       'age_[50-60)', 'age_[60-70)', 'age_[70-80)', 'age_[80-90)',\n",
       "       'age_[90-100)', 'metformin_Down', 'metformin_No',\n",
       "       'metformin_Steady', 'metformin_Up', 'repaglinide_Down',\n",
       "       'repaglinide_No', 'repaglinide_Steady', 'repaglinide_Up',\n",
       "       'nateglinide_Down', 'nateglinide_No', 'nateglinide_Steady',\n",
       "       'nateglinide_Up', 'chlorpropamide_Down', 'chlorpropamide_No',\n",
       "       'chlorpropamide_Steady', 'chlorpropamide_Up', 'glimepiride_Down',\n",
       "       'glimepiride_No', 'glimepiride_Steady', 'glimepiride_Up',\n",
       "       'acetohexamide_No', 'acetohexamide_Steady', 'glipizide_Down',\n",
       "       'glipizide_No', 'glipizide_Steady', 'glipizide_Up',\n",
       "       'glyburide_Down', 'glyburide_No', 'glyburide_Steady',\n",
       "       'glyburide_Up', 'tolbutamide_No', 'tolbutamide_Steady',\n",
       "       'pioglitazone_Down', 'pioglitazone_No', 'pioglitazone_Steady',\n",
       "       'pioglitazone_Up', 'rosiglitazone_Down', 'rosiglitazone_No',\n",
       "       'rosiglitazone_Steady', 'rosiglitazone_Up', 'acarbose_Down',\n",
       "       'acarbose_No', 'acarbose_Steady', 'acarbose_Up', 'miglitol_Down',\n",
       "       'miglitol_No', 'miglitol_Steady', 'miglitol_Up', 'troglitazone_No',\n",
       "       'troglitazone_Steady', 'tolazamide_No', 'tolazamide_Steady',\n",
       "       'tolazamide_Up', 'insulin_Down', 'insulin_No', 'insulin_Steady',\n",
       "       'insulin_Up', 'glyburide-metformin_Down', 'glyburide-metformin_No',\n",
       "       'glyburide-metformin_Steady', 'glyburide-metformin_Up',\n",
       "       'glipizide-metformin_No', 'glipizide-metformin_Steady',\n",
       "       'glimepiride-pioglitazone_No', 'glimepiride-pioglitazone_Steady',\n",
       "       'metformin-rosiglitazone_No', 'metformin-rosiglitazone_Steady',\n",
       "       'metformin-pioglitazone_No', 'metformin-pioglitazone_Steady',\n",
       "       'max_glu_serum_>200', 'max_glu_serum_>300', 'max_glu_serum_None',\n",
       "       'max_glu_serum_Norm', 'A1Cresult_>7', 'A1Cresult_>8',\n",
       "       'A1Cresult_None', 'A1Cresult_Norm', 'readmitted_<30',\n",
       "       'readmitted_>30', 'readmitted_NO', 'change_Ch', 'change_No',\n",
       "       'medical_specialty_?', 'medical_specialty_AllergyandImmunology',\n",
       "       'medical_specialty_Anesthesiology',\n",
       "       'medical_specialty_Anesthesiology-Pediatric',\n",
       "       'medical_specialty_Cardiology',\n",
       "       'medical_specialty_Cardiology-Pediatric',\n",
       "       'medical_specialty_DCPTEAM', 'medical_specialty_Dentistry',\n",
       "       'medical_specialty_Dermatology',\n",
       "       'medical_specialty_Emergency/Trauma',\n",
       "       'medical_specialty_Endocrinology',\n",
       "       'medical_specialty_Endocrinology-Metabolism',\n",
       "       'medical_specialty_Family/GeneralPractice',\n",
       "       'medical_specialty_Gastroenterology',\n",
       "       'medical_specialty_Gynecology', 'medical_specialty_Hematology',\n",
       "       'medical_specialty_Hematology/Oncology',\n",
       "       'medical_specialty_Hospitalist',\n",
       "       'medical_specialty_InfectiousDiseases',\n",
       "       'medical_specialty_InternalMedicine',\n",
       "       'medical_specialty_Nephrology', 'medical_specialty_Neurology',\n",
       "       'medical_specialty_Neurophysiology',\n",
       "       'medical_specialty_Obsterics&Gynecology-GynecologicOnco',\n",
       "       'medical_specialty_Obstetrics',\n",
       "       'medical_specialty_ObstetricsandGynecology',\n",
       "       'medical_specialty_Oncology', 'medical_specialty_Ophthalmology',\n",
       "       'medical_specialty_Orthopedics',\n",
       "       'medical_specialty_Orthopedics-Reconstructive',\n",
       "       'medical_specialty_Osteopath', 'medical_specialty_Otolaryngology',\n",
       "       'medical_specialty_OutreachServices', 'medical_specialty_Pathology',\n",
       "       'medical_specialty_Pediatrics',\n",
       "       'medical_specialty_Pediatrics-AllergyandImmunology',\n",
       "       'medical_specialty_Pediatrics-CriticalCare',\n",
       "       'medical_specialty_Pediatrics-EmergencyMedicine',\n",
       "       'medical_specialty_Pediatrics-Endocrinology',\n",
       "       'medical_specialty_Pediatrics-Hematology-Oncology',\n",
       "       'medical_specialty_Pediatrics-InfectiousDiseases',\n",
       "       'medical_specialty_Pediatrics-Neurology',\n",
       "       'medical_specialty_Pediatrics-Pulmonology',\n",
       "       'medical_specialty_Perinatology',\n",
       "       'medical_specialty_PhysicalMedicineandRehabilitation',\n",
       "       'medical_specialty_PhysicianNotFound', 'medical_specialty_Podiatry',\n",
       "       'medical_specialty_Proctology', 'medical_specialty_Psychiatry',\n",
       "       'medical_specialty_Psychiatry-Addictive',\n",
       "       'medical_specialty_Psychiatry-Child/Adolescent',\n",
       "       'medical_specialty_Psychology', 'medical_specialty_Pulmonology',\n",
       "       'medical_specialty_Radiologist', 'medical_specialty_Radiology',\n",
       "       'medical_specialty_Resident', 'medical_specialty_Rheumatology',\n",
       "       'medical_specialty_Speech', 'medical_specialty_SportsMedicine',\n",
       "       'medical_specialty_Surgeon',\n",
       "       'medical_specialty_Surgery-Cardiovascular',\n",
       "       'medical_specialty_Surgery-Cardiovascular/Thoracic',\n",
       "       'medical_specialty_Surgery-Colon&Rectal',\n",
       "       'medical_specialty_Surgery-General',\n",
       "       'medical_specialty_Surgery-Maxillofacial',\n",
       "       'medical_specialty_Surgery-Neuro',\n",
       "       'medical_specialty_Surgery-Pediatric',\n",
       "       'medical_specialty_Surgery-Plastic',\n",
       "       'medical_specialty_Surgery-PlasticwithinHeadandNeck',\n",
       "       'medical_specialty_Surgery-Thoracic',\n",
       "       'medical_specialty_Surgery-Vascular',\n",
       "       'medical_specialty_SurgicalSpecialty', 'medical_specialty_Urology'], dtype=object)"
      ]
     },
     "execution_count": 20,
     "metadata": {},
     "output_type": "execute_result"
    }
   ],
   "source": [
    "dummy_columns = ['race', 'gender','age','metformin',\n",
    "       'repaglinide', 'nateglinide', 'chlorpropamide', 'glimepiride',\n",
    "       'acetohexamide', 'glipizide', 'glyburide', 'tolbutamide',\n",
    "       'pioglitazone', 'rosiglitazone', 'acarbose', 'miglitol',\n",
    "       'troglitazone', 'tolazamide', 'insulin',\n",
    "       'glyburide-metformin', 'glipizide-metformin',\n",
    "       'glimepiride-pioglitazone', 'metformin-rosiglitazone',\n",
    "       'metformin-pioglitazone', 'max_glu_serum','A1Cresult','readmitted', 'change','medical_specialty']\n",
    "df_dummies = pd.get_dummies(df, columns=dummy_columns)\n",
    "df_dummies.columns.values"
   ]
  },
  {
   "cell_type": "code",
   "execution_count": 28,
   "metadata": {},
   "outputs": [
    {
     "data": {
      "text/html": [
       "<div>\n",
       "<style scoped>\n",
       "    .dataframe tbody tr th:only-of-type {\n",
       "        vertical-align: middle;\n",
       "    }\n",
       "\n",
       "    .dataframe tbody tr th {\n",
       "        vertical-align: top;\n",
       "    }\n",
       "\n",
       "    .dataframe thead th {\n",
       "        text-align: right;\n",
       "    }\n",
       "</style>\n",
       "<table border=\"1\" class=\"dataframe\">\n",
       "  <thead>\n",
       "    <tr style=\"text-align: right;\">\n",
       "      <th></th>\n",
       "      <th>Pregnancies</th>\n",
       "      <th>Glucose</th>\n",
       "      <th>BloodPressure</th>\n",
       "      <th>SkinThickness</th>\n",
       "      <th>Insulin</th>\n",
       "      <th>BMI</th>\n",
       "      <th>DiabetesPedigreeFunction</th>\n",
       "      <th>Age</th>\n",
       "    </tr>\n",
       "  </thead>\n",
       "  <tbody>\n",
       "    <tr>\n",
       "      <th>0</th>\n",
       "      <td>6</td>\n",
       "      <td>148</td>\n",
       "      <td>72</td>\n",
       "      <td>35</td>\n",
       "      <td>0</td>\n",
       "      <td>33.6</td>\n",
       "      <td>0.627</td>\n",
       "      <td>50</td>\n",
       "    </tr>\n",
       "    <tr>\n",
       "      <th>1</th>\n",
       "      <td>1</td>\n",
       "      <td>85</td>\n",
       "      <td>66</td>\n",
       "      <td>29</td>\n",
       "      <td>0</td>\n",
       "      <td>26.6</td>\n",
       "      <td>0.351</td>\n",
       "      <td>31</td>\n",
       "    </tr>\n",
       "    <tr>\n",
       "      <th>2</th>\n",
       "      <td>8</td>\n",
       "      <td>183</td>\n",
       "      <td>64</td>\n",
       "      <td>0</td>\n",
       "      <td>0</td>\n",
       "      <td>23.3</td>\n",
       "      <td>0.672</td>\n",
       "      <td>32</td>\n",
       "    </tr>\n",
       "    <tr>\n",
       "      <th>3</th>\n",
       "      <td>1</td>\n",
       "      <td>89</td>\n",
       "      <td>66</td>\n",
       "      <td>23</td>\n",
       "      <td>94</td>\n",
       "      <td>28.1</td>\n",
       "      <td>0.167</td>\n",
       "      <td>21</td>\n",
       "    </tr>\n",
       "    <tr>\n",
       "      <th>4</th>\n",
       "      <td>0</td>\n",
       "      <td>137</td>\n",
       "      <td>40</td>\n",
       "      <td>35</td>\n",
       "      <td>168</td>\n",
       "      <td>43.1</td>\n",
       "      <td>2.288</td>\n",
       "      <td>33</td>\n",
       "    </tr>\n",
       "  </tbody>\n",
       "</table>\n",
       "</div>"
      ],
      "text/plain": [
       "   Pregnancies  Glucose  BloodPressure  SkinThickness  Insulin   BMI  \\\n",
       "0            6      148             72             35        0  33.6   \n",
       "1            1       85             66             29        0  26.6   \n",
       "2            8      183             64              0        0  23.3   \n",
       "3            1       89             66             23       94  28.1   \n",
       "4            0      137             40             35      168  43.1   \n",
       "\n",
       "   DiabetesPedigreeFunction  Age  \n",
       "0                     0.627   50  \n",
       "1                     0.351   31  \n",
       "2                     0.672   32  \n",
       "3                     0.167   21  \n",
       "4                     2.288   33  "
      ]
     },
     "execution_count": 28,
     "metadata": {},
     "output_type": "execute_result"
    }
   ],
   "source": [
    "df_target = df['Outcome']\n",
    "\n",
    "# Drop the target variable from dataframe\n",
    "df.drop('Outcome' , inplace = True, axis =1)\n",
    "df_attr = df\n",
    "df_attr.head()"
   ]
  },
  {
   "cell_type": "markdown",
   "metadata": {},
   "source": [
    "### Preprocessing\n",
    "Replacing missing values with mean of the columns for selected attributes"
   ]
  },
  {
   "cell_type": "code",
   "execution_count": 29,
   "metadata": {},
   "outputs": [
    {
     "data": {
      "text/html": [
       "<div>\n",
       "<style scoped>\n",
       "    .dataframe tbody tr th:only-of-type {\n",
       "        vertical-align: middle;\n",
       "    }\n",
       "\n",
       "    .dataframe tbody tr th {\n",
       "        vertical-align: top;\n",
       "    }\n",
       "\n",
       "    .dataframe thead th {\n",
       "        text-align: right;\n",
       "    }\n",
       "</style>\n",
       "<table border=\"1\" class=\"dataframe\">\n",
       "  <thead>\n",
       "    <tr style=\"text-align: right;\">\n",
       "      <th></th>\n",
       "      <th>Pregnancies</th>\n",
       "      <th>Glucose</th>\n",
       "      <th>BloodPressure</th>\n",
       "      <th>SkinThickness</th>\n",
       "      <th>Insulin</th>\n",
       "      <th>BMI</th>\n",
       "      <th>DiabetesPedigreeFunction</th>\n",
       "      <th>Age</th>\n",
       "    </tr>\n",
       "  </thead>\n",
       "  <tbody>\n",
       "    <tr>\n",
       "      <th>0</th>\n",
       "      <td>6</td>\n",
       "      <td>148.0</td>\n",
       "      <td>72.0</td>\n",
       "      <td>35.00000</td>\n",
       "      <td>155.548223</td>\n",
       "      <td>33.6</td>\n",
       "      <td>0.627</td>\n",
       "      <td>50</td>\n",
       "    </tr>\n",
       "    <tr>\n",
       "      <th>1</th>\n",
       "      <td>1</td>\n",
       "      <td>85.0</td>\n",
       "      <td>66.0</td>\n",
       "      <td>29.00000</td>\n",
       "      <td>155.548223</td>\n",
       "      <td>26.6</td>\n",
       "      <td>0.351</td>\n",
       "      <td>31</td>\n",
       "    </tr>\n",
       "    <tr>\n",
       "      <th>2</th>\n",
       "      <td>8</td>\n",
       "      <td>183.0</td>\n",
       "      <td>64.0</td>\n",
       "      <td>29.15342</td>\n",
       "      <td>155.548223</td>\n",
       "      <td>23.3</td>\n",
       "      <td>0.672</td>\n",
       "      <td>32</td>\n",
       "    </tr>\n",
       "    <tr>\n",
       "      <th>3</th>\n",
       "      <td>1</td>\n",
       "      <td>89.0</td>\n",
       "      <td>66.0</td>\n",
       "      <td>23.00000</td>\n",
       "      <td>94.000000</td>\n",
       "      <td>28.1</td>\n",
       "      <td>0.167</td>\n",
       "      <td>21</td>\n",
       "    </tr>\n",
       "    <tr>\n",
       "      <th>4</th>\n",
       "      <td>0</td>\n",
       "      <td>137.0</td>\n",
       "      <td>40.0</td>\n",
       "      <td>35.00000</td>\n",
       "      <td>168.000000</td>\n",
       "      <td>43.1</td>\n",
       "      <td>2.288</td>\n",
       "      <td>33</td>\n",
       "    </tr>\n",
       "  </tbody>\n",
       "</table>\n",
       "</div>"
      ],
      "text/plain": [
       "   Pregnancies  Glucose  BloodPressure  SkinThickness     Insulin   BMI  \\\n",
       "0            6    148.0           72.0       35.00000  155.548223  33.6   \n",
       "1            1     85.0           66.0       29.00000  155.548223  26.6   \n",
       "2            8    183.0           64.0       29.15342  155.548223  23.3   \n",
       "3            1     89.0           66.0       23.00000   94.000000  28.1   \n",
       "4            0    137.0           40.0       35.00000  168.000000  43.1   \n",
       "\n",
       "   DiabetesPedigreeFunction  Age  \n",
       "0                     0.627   50  \n",
       "1                     0.351   31  \n",
       "2                     0.672   32  \n",
       "3                     0.167   21  \n",
       "4                     2.288   33  "
      ]
     },
     "execution_count": 29,
     "metadata": {},
     "output_type": "execute_result"
    }
   ],
   "source": [
    "imputer = Imputer(missing_values=0, strategy='mean', axis=0)\n",
    "\n",
    "columns_to_impute = [\"Insulin\", \"Glucose\", \"BloodPressure\", \"SkinThickness\"]\n",
    "\n",
    "for columns in columns_to_impute:\n",
    "    df_attr[columns]=imputer.fit_transform(df[[columns]])\n",
    "    \n",
    "df_attr.head()"
   ]
  },
  {
   "cell_type": "markdown",
   "metadata": {},
   "source": [
    "#### Split attribues for training and testing"
   ]
  },
  {
   "cell_type": "code",
   "execution_count": 30,
   "metadata": {},
   "outputs": [],
   "source": [
    "attr_train, attr_test, target_train, target_test = train_test_split(df_attr , df_target)"
   ]
  },
  {
   "cell_type": "markdown",
   "metadata": {},
   "source": [
    "### Models\n",
    "Fit various models and check results"
   ]
  },
  {
   "cell_type": "code",
   "execution_count": 31,
   "metadata": {},
   "outputs": [],
   "source": [
    "models = [('Decision Tree', DecisionTreeClassifier(max_depth= 5), 'red'), \n",
    "          ('Logistic Regression', LogisticRegression(), 'green'), \n",
    "          ('Random Forest', RandomForestClassifier(), 'yellow')]\n",
    "\n",
    "predicted_results = []\n",
    "for model_names, model, _ in models:\n",
    "    model.fit(attr_train, target_train)\n",
    "    target_predict = model.predict(attr_test)\n",
    "    predicted_results.append(target_predict)"
   ]
  },
  {
   "cell_type": "markdown",
   "metadata": {},
   "source": [
    "### Results\n",
    "Show the results of various models"
   ]
  },
  {
   "cell_type": "code",
   "execution_count": 32,
   "metadata": {},
   "outputs": [
    {
     "data": {
      "text/html": [
       "<text style=color:red>Decision Tree</text>"
      ],
      "text/plain": [
       "<IPython.core.display.HTML object>"
      ]
     },
     "metadata": {},
     "output_type": "display_data"
    },
    {
     "data": {
      "text/markdown": [
       "**Accuracy Score**"
      ],
      "text/plain": [
       "<IPython.core.display.Markdown object>"
      ]
     },
     "metadata": {},
     "output_type": "display_data"
    },
    {
     "name": "stdout",
     "output_type": "stream",
     "text": [
      "0.755208333333\n",
      "\n"
     ]
    },
    {
     "data": {
      "text/markdown": [
       "**Confusion Matrix**"
      ],
      "text/plain": [
       "<IPython.core.display.Markdown object>"
      ]
     },
     "metadata": {},
     "output_type": "display_data"
    },
    {
     "name": "stdout",
     "output_type": "stream",
     "text": [
      "Predicted    0   1\n",
      "Actual            \n",
      "0          101  19\n",
      "1           28  44\n"
     ]
    },
    {
     "data": {
      "text/markdown": [
       "**Classification Report**"
      ],
      "text/plain": [
       "<IPython.core.display.Markdown object>"
      ]
     },
     "metadata": {},
     "output_type": "display_data"
    },
    {
     "name": "stdout",
     "output_type": "stream",
     "text": [
      "             precision    recall  f1-score   support\n",
      "\n",
      "          0       0.78      0.84      0.81       120\n",
      "          1       0.70      0.61      0.65        72\n",
      "\n",
      "avg / total       0.75      0.76      0.75       192\n",
      "\n"
     ]
    },
    {
     "data": {
      "text/html": [
       "<text style=color:red>Logistic Regression</text>"
      ],
      "text/plain": [
       "<IPython.core.display.HTML object>"
      ]
     },
     "metadata": {},
     "output_type": "display_data"
    },
    {
     "data": {
      "text/markdown": [
       "**Accuracy Score**"
      ],
      "text/plain": [
       "<IPython.core.display.Markdown object>"
      ]
     },
     "metadata": {},
     "output_type": "display_data"
    },
    {
     "name": "stdout",
     "output_type": "stream",
     "text": [
      "0.791666666667\n",
      "\n"
     ]
    },
    {
     "data": {
      "text/markdown": [
       "**Confusion Matrix**"
      ],
      "text/plain": [
       "<IPython.core.display.Markdown object>"
      ]
     },
     "metadata": {},
     "output_type": "display_data"
    },
    {
     "name": "stdout",
     "output_type": "stream",
     "text": [
      "Predicted    0   1\n",
      "Actual            \n",
      "0          107  13\n",
      "1           27  45\n"
     ]
    },
    {
     "data": {
      "text/markdown": [
       "**Classification Report**"
      ],
      "text/plain": [
       "<IPython.core.display.Markdown object>"
      ]
     },
     "metadata": {},
     "output_type": "display_data"
    },
    {
     "name": "stdout",
     "output_type": "stream",
     "text": [
      "             precision    recall  f1-score   support\n",
      "\n",
      "          0       0.80      0.89      0.84       120\n",
      "          1       0.78      0.62      0.69        72\n",
      "\n",
      "avg / total       0.79      0.79      0.79       192\n",
      "\n"
     ]
    },
    {
     "data": {
      "text/html": [
       "<text style=color:red>Random Forest</text>"
      ],
      "text/plain": [
       "<IPython.core.display.HTML object>"
      ]
     },
     "metadata": {},
     "output_type": "display_data"
    },
    {
     "data": {
      "text/markdown": [
       "**Accuracy Score**"
      ],
      "text/plain": [
       "<IPython.core.display.Markdown object>"
      ]
     },
     "metadata": {},
     "output_type": "display_data"
    },
    {
     "name": "stdout",
     "output_type": "stream",
     "text": [
      "0.755208333333\n",
      "\n"
     ]
    },
    {
     "data": {
      "text/markdown": [
       "**Confusion Matrix**"
      ],
      "text/plain": [
       "<IPython.core.display.Markdown object>"
      ]
     },
     "metadata": {},
     "output_type": "display_data"
    },
    {
     "name": "stdout",
     "output_type": "stream",
     "text": [
      "Predicted    0   1\n",
      "Actual            \n",
      "0          104  16\n",
      "1           31  41\n"
     ]
    },
    {
     "data": {
      "text/markdown": [
       "**Classification Report**"
      ],
      "text/plain": [
       "<IPython.core.display.Markdown object>"
      ]
     },
     "metadata": {},
     "output_type": "display_data"
    },
    {
     "name": "stdout",
     "output_type": "stream",
     "text": [
      "             precision    recall  f1-score   support\n",
      "\n",
      "          0       0.77      0.87      0.82       120\n",
      "          1       0.72      0.57      0.64        72\n",
      "\n",
      "avg / total       0.75      0.76      0.75       192\n",
      "\n"
     ]
    }
   ],
   "source": [
    "fpr_list = []\n",
    "tpr_list = []\n",
    "confusion_matrix_list = []\n",
    "\n",
    "for idx, (model_name, model, _) in enumerate(models):\n",
    "    print_color(model_name)\n",
    "    print_bold('Accuracy Score')\n",
    "    print(accuracy_score(target_test.values, predicted_results[idx]), end='\\n\\n')\n",
    "    \n",
    "    display_confusion_matrix(target_test.values, predicted_results[idx])\n",
    "    cm = confusion_matrix(target_test, predicted_results[idx])\n",
    "    confusion_matrix_list.append(cm)\n",
    "    \n",
    "    print_bold('Classification Report')\n",
    "    print(classification_report(target_test, predicted_results[idx]))"
   ]
  },
  {
   "cell_type": "markdown",
   "metadata": {},
   "source": [
    "### Analysis"
   ]
  },
  {
   "cell_type": "code",
   "execution_count": 49,
   "metadata": {},
   "outputs": [
    {
     "name": "stdout",
     "output_type": "stream",
     "text": [
      "[(0.13, 0.56999999999999995), (0.16, 0.60999999999999999), (0.11, 0.62)]\n"
     ]
    },
    {
     "data": {
      "image/png": "[encoded data removed]",
      "text/plain": [
       "<matplotlib.figure.Figure at 0x11586b2b0>"
      ]
     },
     "metadata": {},
     "output_type": "display_data"
    }
   ],
   "source": [
    "plot_roc_curve(confusion_matrix_list, models, 'False Positive Rate', 'True Positive Rate')"
   ]
  }
 ],
 "metadata": {
  "kernelspec": {
   "display_name": "Python 3",
   "language": "python",
   "name": "python3"
  },
  "language_info": {
   "codemirror_mode": {
    "name": "ipython",
    "version": 3
   },
   "file_extension": ".py",
   "mimetype": "text/x-python",
   "name": "python",
   "nbconvert_exporter": "python",
   "pygments_lexer": "ipython3",
   "version": "3.6.3"
  }
 },
 "nbformat": 4,
 "nbformat_minor": 2
}
