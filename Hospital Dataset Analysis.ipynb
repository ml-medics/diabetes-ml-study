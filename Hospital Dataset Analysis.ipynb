{
 "cells": [
  {
   "cell_type": "markdown",
   "metadata": {},
   "source": [
    "### Data Mining on Hospital Dataset\n",
    "\n",
    "This notebook analyses hospital records of diabetic patients and predicts the possibilty of readmittance.\n",
    "\n",
    "Thomas Binu tb6405, Chinmay Singh cks9089"
   ]
  },
  {
   "cell_type": "markdown",
   "metadata": {},
   "source": [
    "### Imports"
   ]
  },
  {
   "cell_type": "code",
   "execution_count": 1,
   "metadata": {},
   "outputs": [],
   "source": [
    "from sklearn.metrics import accuracy_score, confusion_matrix, classification_report\n",
    "from sklearn.naive_bayes import GaussianNB, MultinomialNB\n",
    "from sklearn.neural_network import MLPClassifier\n",
    "from sklearn.model_selection import train_test_split\n",
    "from sklearn.tree import DecisionTreeClassifier, export_graphviz\n",
    "from sklearn.ensemble import RandomForestClassifier, RandomForestRegressor\n",
    "from sklearn.linear_model import LogisticRegression, LinearRegression\n",
    "from sklearn.naive_bayes import GaussianNB, MultinomialNB\n",
    "from sklearn.neural_network import MLPClassifier\n",
    "from sklearn.preprocessing import Imputer\n",
    "from sklearn.metrics import roc_curve\n",
    "import matplotlib.pyplot as plt\n",
    "from IPython.display import Markdown, display\n",
    "import matplotlib.patches as mpatches\n",
    "from IPython.display import HTML\n",
    "from operator import itemgetter\n",
    "from sklearn.model_selection import cross_val_score\n",
    "from scipy.stats import itemfreq\n",
    "import time\n",
    "\n",
    "\n",
    "import pandas as pd\n",
    "import numpy as np\n",
    "\n",
    "\n",
    "# pd.options.mode.chained_assignment = None "
   ]
  },
  {
   "cell_type": "markdown",
   "metadata": {},
   "source": [
    "### Helper functions"
   ]
  },
  {
   "cell_type": "code",
   "execution_count": 2,
   "metadata": {},
   "outputs": [],
   "source": [
    "def report_missing_value(df, attr):\n",
    "    missing_count = df[attr].isnull().sum()\n",
    "    if missing_count > 0:\n",
    "        print(attr,':', str(round(missing_count / len(df[attr]), 4)) + '%')\n",
    "\n",
    "def print_bold(text):\n",
    "    display(Markdown(\"**{}**\".format(text)))\n",
    "    \n",
    "def print_color(text, color='red'):\n",
    "    display(HTML(\"<text style=color:{}>{}</text>\".format(color, text)))\n",
    "\n",
    "\n",
    "def display_confusion_matrix(target_test, target_predict):\n",
    "    print_bold('Confusion Matrix')\n",
    "    y_actu = pd.Series(target_test, name='Actual')\n",
    "    y_pred = pd.Series(target_predict, name='Predicted')\n",
    "    print(pd.crosstab(y_actu, y_pred))\n",
    "    \n",
    "# Basic graph plotting utility\n",
    "def plot_roc_curve(confusion_matrix_list, models, x_label, y_label, model_names=''):\n",
    "    \n",
    "    tpr_fpr_list = []\n",
    "    \n",
    "    for idx, cm in enumerate(confusion_matrix_list):\n",
    "    \n",
    "        tp = cm[1, 1]\n",
    "        tn = cm[0, 0]\n",
    "        fp = cm[0, 1]\n",
    "        fn = cm[1, 0]\n",
    "        \n",
    "        \n",
    "        tpr = tp / (tp + fn)\n",
    "        fpr = fp / (fp + tn)\n",
    "        \n",
    "        print(models[idx][0], 'TPR:' + str(tpr), 'FPR:' + str(fpr))\n",
    "    \n",
    "        tpr_fpr_list.append((round(fpr, 2), round(tpr , 2)))\n",
    "        \n",
    "    tpr_fpr_list.sort(key=itemgetter(0))    \n",
    "    handles = []\n",
    "    \n",
    "    for model_name, model, color in models:\n",
    "        patch = mpatches.Patch(color=color, label=model_name)\n",
    "        handles.append(patch)\n",
    "        \n",
    "    fpr_list, tpr_list = zip(*tpr_fpr_list)\n",
    "    \n",
    "    fig, ax = plt.subplots()\n",
    "    plt.plot(fpr_list, tpr_list, 'bs-')\n",
    "    plt.xlabel(x_label)\n",
    "    plt.ylabel(y_label)\n",
    "\n",
    "    for idx, _   in enumerate(tpr_list):\n",
    "        \n",
    "        tpr = tpr_list[idx]\n",
    "        fpr = fpr_list[idx]\n",
    "#         plt.plot([fpr, fpr], [0, tpr], 'ks-') # vertical\n",
    "#         plt.plot([0, fpr], [tpr, tpr], 'ks-') # horizontal\n",
    "        plt.plot([fpr], [tpr], marker='o',  markersize=10, color=models[idx][2])\n",
    "    plt.legend(handles=handles)\n",
    "    plt.show()"
   ]
  },
  {
   "cell_type": "markdown",
   "metadata": {},
   "source": [
    "### Read dataset"
   ]
  },
  {
   "cell_type": "code",
   "execution_count": 3,
   "metadata": {},
   "outputs": [
    {
     "data": {
      "text/html": [
       "<div>\n",
       "<style scoped>\n",
       "    .dataframe tbody tr th:only-of-type {\n",
       "        vertical-align: middle;\n",
       "    }\n",
       "\n",
       "    .dataframe tbody tr th {\n",
       "        vertical-align: top;\n",
       "    }\n",
       "\n",
       "    .dataframe thead th {\n",
       "        text-align: right;\n",
       "    }\n",
       "</style>\n",
       "<table border=\"1\" class=\"dataframe\">\n",
       "  <thead>\n",
       "    <tr style=\"text-align: right;\">\n",
       "      <th></th>\n",
       "      <th>encounter_id</th>\n",
       "      <th>patient_nbr</th>\n",
       "      <th>race</th>\n",
       "      <th>gender</th>\n",
       "      <th>age</th>\n",
       "      <th>weight</th>\n",
       "      <th>admission_type_id</th>\n",
       "      <th>discharge_disposition_id</th>\n",
       "      <th>admission_source_id</th>\n",
       "      <th>time_in_hospital</th>\n",
       "      <th>...</th>\n",
       "      <th>citoglipton</th>\n",
       "      <th>insulin</th>\n",
       "      <th>glyburide-metformin</th>\n",
       "      <th>glipizide-metformin</th>\n",
       "      <th>glimepiride-pioglitazone</th>\n",
       "      <th>metformin-rosiglitazone</th>\n",
       "      <th>metformin-pioglitazone</th>\n",
       "      <th>change</th>\n",
       "      <th>diabetesMed</th>\n",
       "      <th>readmitted</th>\n",
       "    </tr>\n",
       "  </thead>\n",
       "  <tbody>\n",
       "    <tr>\n",
       "      <th>0</th>\n",
       "      <td>2278392</td>\n",
       "      <td>8222157</td>\n",
       "      <td>Caucasian</td>\n",
       "      <td>Female</td>\n",
       "      <td>[0-10)</td>\n",
       "      <td>?</td>\n",
       "      <td>6</td>\n",
       "      <td>25</td>\n",
       "      <td>1</td>\n",
       "      <td>1</td>\n",
       "      <td>...</td>\n",
       "      <td>No</td>\n",
       "      <td>No</td>\n",
       "      <td>No</td>\n",
       "      <td>No</td>\n",
       "      <td>No</td>\n",
       "      <td>No</td>\n",
       "      <td>No</td>\n",
       "      <td>No</td>\n",
       "      <td>No</td>\n",
       "      <td>NO</td>\n",
       "    </tr>\n",
       "    <tr>\n",
       "      <th>1</th>\n",
       "      <td>149190</td>\n",
       "      <td>55629189</td>\n",
       "      <td>Caucasian</td>\n",
       "      <td>Female</td>\n",
       "      <td>[10-20)</td>\n",
       "      <td>?</td>\n",
       "      <td>1</td>\n",
       "      <td>1</td>\n",
       "      <td>7</td>\n",
       "      <td>3</td>\n",
       "      <td>...</td>\n",
       "      <td>No</td>\n",
       "      <td>Up</td>\n",
       "      <td>No</td>\n",
       "      <td>No</td>\n",
       "      <td>No</td>\n",
       "      <td>No</td>\n",
       "      <td>No</td>\n",
       "      <td>Ch</td>\n",
       "      <td>Yes</td>\n",
       "      <td>&gt;30</td>\n",
       "    </tr>\n",
       "    <tr>\n",
       "      <th>2</th>\n",
       "      <td>64410</td>\n",
       "      <td>86047875</td>\n",
       "      <td>AfricanAmerican</td>\n",
       "      <td>Female</td>\n",
       "      <td>[20-30)</td>\n",
       "      <td>?</td>\n",
       "      <td>1</td>\n",
       "      <td>1</td>\n",
       "      <td>7</td>\n",
       "      <td>2</td>\n",
       "      <td>...</td>\n",
       "      <td>No</td>\n",
       "      <td>No</td>\n",
       "      <td>No</td>\n",
       "      <td>No</td>\n",
       "      <td>No</td>\n",
       "      <td>No</td>\n",
       "      <td>No</td>\n",
       "      <td>No</td>\n",
       "      <td>Yes</td>\n",
       "      <td>NO</td>\n",
       "    </tr>\n",
       "    <tr>\n",
       "      <th>3</th>\n",
       "      <td>500364</td>\n",
       "      <td>82442376</td>\n",
       "      <td>Caucasian</td>\n",
       "      <td>Male</td>\n",
       "      <td>[30-40)</td>\n",
       "      <td>?</td>\n",
       "      <td>1</td>\n",
       "      <td>1</td>\n",
       "      <td>7</td>\n",
       "      <td>2</td>\n",
       "      <td>...</td>\n",
       "      <td>No</td>\n",
       "      <td>Up</td>\n",
       "      <td>No</td>\n",
       "      <td>No</td>\n",
       "      <td>No</td>\n",
       "      <td>No</td>\n",
       "      <td>No</td>\n",
       "      <td>Ch</td>\n",
       "      <td>Yes</td>\n",
       "      <td>NO</td>\n",
       "    </tr>\n",
       "    <tr>\n",
       "      <th>4</th>\n",
       "      <td>16680</td>\n",
       "      <td>42519267</td>\n",
       "      <td>Caucasian</td>\n",
       "      <td>Male</td>\n",
       "      <td>[40-50)</td>\n",
       "      <td>?</td>\n",
       "      <td>1</td>\n",
       "      <td>1</td>\n",
       "      <td>7</td>\n",
       "      <td>1</td>\n",
       "      <td>...</td>\n",
       "      <td>No</td>\n",
       "      <td>Steady</td>\n",
       "      <td>No</td>\n",
       "      <td>No</td>\n",
       "      <td>No</td>\n",
       "      <td>No</td>\n",
       "      <td>No</td>\n",
       "      <td>Ch</td>\n",
       "      <td>Yes</td>\n",
       "      <td>NO</td>\n",
       "    </tr>\n",
       "  </tbody>\n",
       "</table>\n",
       "<p>5 rows × 50 columns</p>\n",
       "</div>"
      ],
      "text/plain": [
       "   encounter_id  patient_nbr             race  gender      age weight  \\\n",
       "0       2278392      8222157        Caucasian  Female   [0-10)      ?   \n",
       "1        149190     55629189        Caucasian  Female  [10-20)      ?   \n",
       "2         64410     86047875  AfricanAmerican  Female  [20-30)      ?   \n",
       "3        500364     82442376        Caucasian    Male  [30-40)      ?   \n",
       "4         16680     42519267        Caucasian    Male  [40-50)      ?   \n",
       "\n",
       "   admission_type_id  discharge_disposition_id  admission_source_id  \\\n",
       "0                  6                        25                    1   \n",
       "1                  1                         1                    7   \n",
       "2                  1                         1                    7   \n",
       "3                  1                         1                    7   \n",
       "4                  1                         1                    7   \n",
       "\n",
       "   time_in_hospital    ...     citoglipton insulin  glyburide-metformin  \\\n",
       "0                 1    ...              No      No                   No   \n",
       "1                 3    ...              No      Up                   No   \n",
       "2                 2    ...              No      No                   No   \n",
       "3                 2    ...              No      Up                   No   \n",
       "4                 1    ...              No  Steady                   No   \n",
       "\n",
       "   glipizide-metformin  glimepiride-pioglitazone  metformin-rosiglitazone  \\\n",
       "0                   No                        No                       No   \n",
       "1                   No                        No                       No   \n",
       "2                   No                        No                       No   \n",
       "3                   No                        No                       No   \n",
       "4                   No                        No                       No   \n",
       "\n",
       "   metformin-pioglitazone  change diabetesMed readmitted  \n",
       "0                      No      No          No         NO  \n",
       "1                      No      Ch         Yes        >30  \n",
       "2                      No      No         Yes         NO  \n",
       "3                      No      Ch         Yes         NO  \n",
       "4                      No      Ch         Yes         NO  \n",
       "\n",
       "[5 rows x 50 columns]"
      ]
     },
     "execution_count": 3,
     "metadata": {},
     "output_type": "execute_result"
    }
   ],
   "source": [
    "DATASET_NAME = 'datasets/diabetes_hospital.csv'\n",
    "df = pd.read_csv(DATASET_NAME)\n",
    "df.head()"
   ]
  },
  {
   "cell_type": "markdown",
   "metadata": {},
   "source": [
    "### Find out missing values in the dataset"
   ]
  },
  {
   "cell_type": "code",
   "execution_count": 4,
   "metadata": {},
   "outputs": [
    {
     "name": "stdout",
     "output_type": "stream",
     "text": [
      "Missing values:\n",
      "race : 0.0223%\n",
      "weight : 0.9686%\n",
      "payer_code : 0.3956%\n",
      "medical_specialty : 0.4908%\n",
      "diag_1 : 0.0164%\n",
      "diag_2 : 0.0284%\n",
      "diag_3 : 0.0637%\n"
     ]
    }
   ],
   "source": [
    "attributes = df.columns.values\n",
    "print('Missing values:')\n",
    "for attr in attributes:\n",
    "    df[attr].replace('?', np.nan, inplace=True)\n",
    "    df[attr].replace('', np.nan, inplace=True)\n",
    "    df[attr].replace(r'[V|E][\\d]+', np.nan, regex=True, inplace=True)\n",
    "    report_missing_value(df, attr)\n",
    "\n",
    "df[['diag_1', 'diag_2', 'diag_3']] = df[['diag_1', 'diag_2', 'diag_3']].astype(float)"
   ]
  },
  {
   "cell_type": "code",
   "execution_count": 5,
   "metadata": {},
   "outputs": [
    {
     "data": {
      "text/html": [
       "<div>\n",
       "<style scoped>\n",
       "    .dataframe tbody tr th:only-of-type {\n",
       "        vertical-align: middle;\n",
       "    }\n",
       "\n",
       "    .dataframe tbody tr th {\n",
       "        vertical-align: top;\n",
       "    }\n",
       "\n",
       "    .dataframe thead th {\n",
       "        text-align: right;\n",
       "    }\n",
       "</style>\n",
       "<table border=\"1\" class=\"dataframe\">\n",
       "  <thead>\n",
       "    <tr style=\"text-align: right;\">\n",
       "      <th></th>\n",
       "      <th>encounter_id</th>\n",
       "      <th>patient_nbr</th>\n",
       "      <th>race</th>\n",
       "      <th>gender</th>\n",
       "      <th>age</th>\n",
       "      <th>weight</th>\n",
       "      <th>admission_type_id</th>\n",
       "      <th>discharge_disposition_id</th>\n",
       "      <th>admission_source_id</th>\n",
       "      <th>time_in_hospital</th>\n",
       "      <th>...</th>\n",
       "      <th>citoglipton</th>\n",
       "      <th>insulin</th>\n",
       "      <th>glyburide-metformin</th>\n",
       "      <th>glipizide-metformin</th>\n",
       "      <th>glimepiride-pioglitazone</th>\n",
       "      <th>metformin-rosiglitazone</th>\n",
       "      <th>metformin-pioglitazone</th>\n",
       "      <th>change</th>\n",
       "      <th>diabetesMed</th>\n",
       "      <th>readmitted</th>\n",
       "    </tr>\n",
       "  </thead>\n",
       "  <tbody>\n",
       "    <tr>\n",
       "      <th>0</th>\n",
       "      <td>2278392</td>\n",
       "      <td>8222157</td>\n",
       "      <td>Caucasian</td>\n",
       "      <td>Female</td>\n",
       "      <td>[0-10)</td>\n",
       "      <td>NaN</td>\n",
       "      <td>6</td>\n",
       "      <td>25</td>\n",
       "      <td>1</td>\n",
       "      <td>1</td>\n",
       "      <td>...</td>\n",
       "      <td>No</td>\n",
       "      <td>No</td>\n",
       "      <td>No</td>\n",
       "      <td>No</td>\n",
       "      <td>No</td>\n",
       "      <td>No</td>\n",
       "      <td>No</td>\n",
       "      <td>No</td>\n",
       "      <td>No</td>\n",
       "      <td>NO</td>\n",
       "    </tr>\n",
       "    <tr>\n",
       "      <th>1</th>\n",
       "      <td>149190</td>\n",
       "      <td>55629189</td>\n",
       "      <td>Caucasian</td>\n",
       "      <td>Female</td>\n",
       "      <td>[10-20)</td>\n",
       "      <td>NaN</td>\n",
       "      <td>1</td>\n",
       "      <td>1</td>\n",
       "      <td>7</td>\n",
       "      <td>3</td>\n",
       "      <td>...</td>\n",
       "      <td>No</td>\n",
       "      <td>Up</td>\n",
       "      <td>No</td>\n",
       "      <td>No</td>\n",
       "      <td>No</td>\n",
       "      <td>No</td>\n",
       "      <td>No</td>\n",
       "      <td>Ch</td>\n",
       "      <td>Yes</td>\n",
       "      <td>&gt;30</td>\n",
       "    </tr>\n",
       "    <tr>\n",
       "      <th>2</th>\n",
       "      <td>64410</td>\n",
       "      <td>86047875</td>\n",
       "      <td>AfricanAmerican</td>\n",
       "      <td>Female</td>\n",
       "      <td>[20-30)</td>\n",
       "      <td>NaN</td>\n",
       "      <td>1</td>\n",
       "      <td>1</td>\n",
       "      <td>7</td>\n",
       "      <td>2</td>\n",
       "      <td>...</td>\n",
       "      <td>No</td>\n",
       "      <td>No</td>\n",
       "      <td>No</td>\n",
       "      <td>No</td>\n",
       "      <td>No</td>\n",
       "      <td>No</td>\n",
       "      <td>No</td>\n",
       "      <td>No</td>\n",
       "      <td>Yes</td>\n",
       "      <td>NO</td>\n",
       "    </tr>\n",
       "    <tr>\n",
       "      <th>3</th>\n",
       "      <td>500364</td>\n",
       "      <td>82442376</td>\n",
       "      <td>Caucasian</td>\n",
       "      <td>Male</td>\n",
       "      <td>[30-40)</td>\n",
       "      <td>NaN</td>\n",
       "      <td>1</td>\n",
       "      <td>1</td>\n",
       "      <td>7</td>\n",
       "      <td>2</td>\n",
       "      <td>...</td>\n",
       "      <td>No</td>\n",
       "      <td>Up</td>\n",
       "      <td>No</td>\n",
       "      <td>No</td>\n",
       "      <td>No</td>\n",
       "      <td>No</td>\n",
       "      <td>No</td>\n",
       "      <td>Ch</td>\n",
       "      <td>Yes</td>\n",
       "      <td>NO</td>\n",
       "    </tr>\n",
       "    <tr>\n",
       "      <th>4</th>\n",
       "      <td>16680</td>\n",
       "      <td>42519267</td>\n",
       "      <td>Caucasian</td>\n",
       "      <td>Male</td>\n",
       "      <td>[40-50)</td>\n",
       "      <td>NaN</td>\n",
       "      <td>1</td>\n",
       "      <td>1</td>\n",
       "      <td>7</td>\n",
       "      <td>1</td>\n",
       "      <td>...</td>\n",
       "      <td>No</td>\n",
       "      <td>Steady</td>\n",
       "      <td>No</td>\n",
       "      <td>No</td>\n",
       "      <td>No</td>\n",
       "      <td>No</td>\n",
       "      <td>No</td>\n",
       "      <td>Ch</td>\n",
       "      <td>Yes</td>\n",
       "      <td>NO</td>\n",
       "    </tr>\n",
       "  </tbody>\n",
       "</table>\n",
       "<p>5 rows × 50 columns</p>\n",
       "</div>"
      ],
      "text/plain": [
       "   encounter_id  patient_nbr             race  gender      age weight  \\\n",
       "0       2278392      8222157        Caucasian  Female   [0-10)    NaN   \n",
       "1        149190     55629189        Caucasian  Female  [10-20)    NaN   \n",
       "2         64410     86047875  AfricanAmerican  Female  [20-30)    NaN   \n",
       "3        500364     82442376        Caucasian    Male  [30-40)    NaN   \n",
       "4         16680     42519267        Caucasian    Male  [40-50)    NaN   \n",
       "\n",
       "   admission_type_id  discharge_disposition_id  admission_source_id  \\\n",
       "0                  6                        25                    1   \n",
       "1                  1                         1                    7   \n",
       "2                  1                         1                    7   \n",
       "3                  1                         1                    7   \n",
       "4                  1                         1                    7   \n",
       "\n",
       "   time_in_hospital     ...     citoglipton insulin  glyburide-metformin  \\\n",
       "0                 1     ...              No      No                   No   \n",
       "1                 3     ...              No      Up                   No   \n",
       "2                 2     ...              No      No                   No   \n",
       "3                 2     ...              No      Up                   No   \n",
       "4                 1     ...              No  Steady                   No   \n",
       "\n",
       "   glipizide-metformin  glimepiride-pioglitazone  metformin-rosiglitazone  \\\n",
       "0                   No                        No                       No   \n",
       "1                   No                        No                       No   \n",
       "2                   No                        No                       No   \n",
       "3                   No                        No                       No   \n",
       "4                   No                        No                       No   \n",
       "\n",
       "   metformin-pioglitazone  change  diabetesMed  readmitted  \n",
       "0                      No      No           No          NO  \n",
       "1                      No      Ch          Yes         >30  \n",
       "2                      No      No          Yes          NO  \n",
       "3                      No      Ch          Yes          NO  \n",
       "4                      No      Ch          Yes          NO  \n",
       "\n",
       "[5 rows x 50 columns]"
      ]
     },
     "execution_count": 5,
     "metadata": {},
     "output_type": "execute_result"
    }
   ],
   "source": [
    "df.head()"
   ]
  },
  {
   "cell_type": "markdown",
   "metadata": {},
   "source": [
    "### Show statistics of the dataset"
   ]
  },
  {
   "cell_type": "code",
   "execution_count": 6,
   "metadata": {
    "scrolled": true
   },
   "outputs": [
    {
     "data": {
      "text/html": [
       "<div>\n",
       "<style scoped>\n",
       "    .dataframe tbody tr th:only-of-type {\n",
       "        vertical-align: middle;\n",
       "    }\n",
       "\n",
       "    .dataframe tbody tr th {\n",
       "        vertical-align: top;\n",
       "    }\n",
       "\n",
       "    .dataframe thead th {\n",
       "        text-align: right;\n",
       "    }\n",
       "</style>\n",
       "<table border=\"1\" class=\"dataframe\">\n",
       "  <thead>\n",
       "    <tr style=\"text-align: right;\">\n",
       "      <th></th>\n",
       "      <th>count</th>\n",
       "      <th>mean</th>\n",
       "      <th>std</th>\n",
       "      <th>min</th>\n",
       "      <th>25%</th>\n",
       "      <th>50%</th>\n",
       "      <th>75%</th>\n",
       "      <th>max</th>\n",
       "    </tr>\n",
       "  </thead>\n",
       "  <tbody>\n",
       "    <tr>\n",
       "      <th>encounter_id</th>\n",
       "      <td>101766.0</td>\n",
       "      <td>1.652016e+08</td>\n",
       "      <td>1.026403e+08</td>\n",
       "      <td>12522.0</td>\n",
       "      <td>84961194.0</td>\n",
       "      <td>152388987.0</td>\n",
       "      <td>2.302709e+08</td>\n",
       "      <td>443867222.0</td>\n",
       "    </tr>\n",
       "    <tr>\n",
       "      <th>patient_nbr</th>\n",
       "      <td>101766.0</td>\n",
       "      <td>5.433040e+07</td>\n",
       "      <td>3.869636e+07</td>\n",
       "      <td>135.0</td>\n",
       "      <td>23413221.0</td>\n",
       "      <td>45505143.0</td>\n",
       "      <td>8.754595e+07</td>\n",
       "      <td>189502619.0</td>\n",
       "    </tr>\n",
       "    <tr>\n",
       "      <th>admission_type_id</th>\n",
       "      <td>101766.0</td>\n",
       "      <td>2.024006e+00</td>\n",
       "      <td>1.445403e+00</td>\n",
       "      <td>1.0</td>\n",
       "      <td>1.0</td>\n",
       "      <td>1.0</td>\n",
       "      <td>3.000000e+00</td>\n",
       "      <td>8.0</td>\n",
       "    </tr>\n",
       "    <tr>\n",
       "      <th>discharge_disposition_id</th>\n",
       "      <td>101766.0</td>\n",
       "      <td>3.715642e+00</td>\n",
       "      <td>5.280166e+00</td>\n",
       "      <td>1.0</td>\n",
       "      <td>1.0</td>\n",
       "      <td>1.0</td>\n",
       "      <td>4.000000e+00</td>\n",
       "      <td>28.0</td>\n",
       "    </tr>\n",
       "    <tr>\n",
       "      <th>admission_source_id</th>\n",
       "      <td>101766.0</td>\n",
       "      <td>5.754437e+00</td>\n",
       "      <td>4.064081e+00</td>\n",
       "      <td>1.0</td>\n",
       "      <td>1.0</td>\n",
       "      <td>7.0</td>\n",
       "      <td>7.000000e+00</td>\n",
       "      <td>25.0</td>\n",
       "    </tr>\n",
       "    <tr>\n",
       "      <th>time_in_hospital</th>\n",
       "      <td>101766.0</td>\n",
       "      <td>4.395987e+00</td>\n",
       "      <td>2.985108e+00</td>\n",
       "      <td>1.0</td>\n",
       "      <td>2.0</td>\n",
       "      <td>4.0</td>\n",
       "      <td>6.000000e+00</td>\n",
       "      <td>14.0</td>\n",
       "    </tr>\n",
       "    <tr>\n",
       "      <th>num_lab_procedures</th>\n",
       "      <td>101766.0</td>\n",
       "      <td>4.309564e+01</td>\n",
       "      <td>1.967436e+01</td>\n",
       "      <td>1.0</td>\n",
       "      <td>31.0</td>\n",
       "      <td>44.0</td>\n",
       "      <td>5.700000e+01</td>\n",
       "      <td>132.0</td>\n",
       "    </tr>\n",
       "    <tr>\n",
       "      <th>num_procedures</th>\n",
       "      <td>101766.0</td>\n",
       "      <td>1.339730e+00</td>\n",
       "      <td>1.705807e+00</td>\n",
       "      <td>0.0</td>\n",
       "      <td>0.0</td>\n",
       "      <td>1.0</td>\n",
       "      <td>2.000000e+00</td>\n",
       "      <td>6.0</td>\n",
       "    </tr>\n",
       "    <tr>\n",
       "      <th>num_medications</th>\n",
       "      <td>101766.0</td>\n",
       "      <td>1.602184e+01</td>\n",
       "      <td>8.127566e+00</td>\n",
       "      <td>1.0</td>\n",
       "      <td>10.0</td>\n",
       "      <td>15.0</td>\n",
       "      <td>2.000000e+01</td>\n",
       "      <td>81.0</td>\n",
       "    </tr>\n",
       "    <tr>\n",
       "      <th>number_outpatient</th>\n",
       "      <td>101766.0</td>\n",
       "      <td>3.693572e-01</td>\n",
       "      <td>1.267265e+00</td>\n",
       "      <td>0.0</td>\n",
       "      <td>0.0</td>\n",
       "      <td>0.0</td>\n",
       "      <td>0.000000e+00</td>\n",
       "      <td>42.0</td>\n",
       "    </tr>\n",
       "    <tr>\n",
       "      <th>number_emergency</th>\n",
       "      <td>101766.0</td>\n",
       "      <td>1.978362e-01</td>\n",
       "      <td>9.304723e-01</td>\n",
       "      <td>0.0</td>\n",
       "      <td>0.0</td>\n",
       "      <td>0.0</td>\n",
       "      <td>0.000000e+00</td>\n",
       "      <td>76.0</td>\n",
       "    </tr>\n",
       "    <tr>\n",
       "      <th>number_inpatient</th>\n",
       "      <td>101766.0</td>\n",
       "      <td>6.355659e-01</td>\n",
       "      <td>1.262863e+00</td>\n",
       "      <td>0.0</td>\n",
       "      <td>0.0</td>\n",
       "      <td>0.0</td>\n",
       "      <td>1.000000e+00</td>\n",
       "      <td>21.0</td>\n",
       "    </tr>\n",
       "    <tr>\n",
       "      <th>diag_1</th>\n",
       "      <td>100100.0</td>\n",
       "      <td>4.935831e+02</td>\n",
       "      <td>2.067153e+02</td>\n",
       "      <td>3.0</td>\n",
       "      <td>410.0</td>\n",
       "      <td>440.0</td>\n",
       "      <td>5.990000e+02</td>\n",
       "      <td>999.0</td>\n",
       "    </tr>\n",
       "    <tr>\n",
       "      <th>diag_2</th>\n",
       "      <td>98872.0</td>\n",
       "      <td>4.386749e+02</td>\n",
       "      <td>1.789016e+02</td>\n",
       "      <td>5.0</td>\n",
       "      <td>276.0</td>\n",
       "      <td>425.0</td>\n",
       "      <td>5.300000e+02</td>\n",
       "      <td>999.0</td>\n",
       "    </tr>\n",
       "    <tr>\n",
       "      <th>diag_3</th>\n",
       "      <td>95285.0</td>\n",
       "      <td>4.181793e+02</td>\n",
       "      <td>1.773240e+02</td>\n",
       "      <td>3.0</td>\n",
       "      <td>272.0</td>\n",
       "      <td>403.0</td>\n",
       "      <td>4.960000e+02</td>\n",
       "      <td>999.0</td>\n",
       "    </tr>\n",
       "    <tr>\n",
       "      <th>number_diagnoses</th>\n",
       "      <td>101766.0</td>\n",
       "      <td>7.422607e+00</td>\n",
       "      <td>1.933600e+00</td>\n",
       "      <td>1.0</td>\n",
       "      <td>6.0</td>\n",
       "      <td>8.0</td>\n",
       "      <td>9.000000e+00</td>\n",
       "      <td>16.0</td>\n",
       "    </tr>\n",
       "  </tbody>\n",
       "</table>\n",
       "</div>"
      ],
      "text/plain": [
       "                             count          mean           std      min  \\\n",
       "encounter_id              101766.0  1.652016e+08  1.026403e+08  12522.0   \n",
       "patient_nbr               101766.0  5.433040e+07  3.869636e+07    135.0   \n",
       "admission_type_id         101766.0  2.024006e+00  1.445403e+00      1.0   \n",
       "discharge_disposition_id  101766.0  3.715642e+00  5.280166e+00      1.0   \n",
       "admission_source_id       101766.0  5.754437e+00  4.064081e+00      1.0   \n",
       "time_in_hospital          101766.0  4.395987e+00  2.985108e+00      1.0   \n",
       "num_lab_procedures        101766.0  4.309564e+01  1.967436e+01      1.0   \n",
       "num_procedures            101766.0  1.339730e+00  1.705807e+00      0.0   \n",
       "num_medications           101766.0  1.602184e+01  8.127566e+00      1.0   \n",
       "number_outpatient         101766.0  3.693572e-01  1.267265e+00      0.0   \n",
       "number_emergency          101766.0  1.978362e-01  9.304723e-01      0.0   \n",
       "number_inpatient          101766.0  6.355659e-01  1.262863e+00      0.0   \n",
       "diag_1                    100100.0  4.935831e+02  2.067153e+02      3.0   \n",
       "diag_2                     98872.0  4.386749e+02  1.789016e+02      5.0   \n",
       "diag_3                     95285.0  4.181793e+02  1.773240e+02      3.0   \n",
       "number_diagnoses          101766.0  7.422607e+00  1.933600e+00      1.0   \n",
       "\n",
       "                                 25%          50%           75%          max  \n",
       "encounter_id              84961194.0  152388987.0  2.302709e+08  443867222.0  \n",
       "patient_nbr               23413221.0   45505143.0  8.754595e+07  189502619.0  \n",
       "admission_type_id                1.0          1.0  3.000000e+00          8.0  \n",
       "discharge_disposition_id         1.0          1.0  4.000000e+00         28.0  \n",
       "admission_source_id              1.0          7.0  7.000000e+00         25.0  \n",
       "time_in_hospital                 2.0          4.0  6.000000e+00         14.0  \n",
       "num_lab_procedures              31.0         44.0  5.700000e+01        132.0  \n",
       "num_procedures                   0.0          1.0  2.000000e+00          6.0  \n",
       "num_medications                 10.0         15.0  2.000000e+01         81.0  \n",
       "number_outpatient                0.0          0.0  0.000000e+00         42.0  \n",
       "number_emergency                 0.0          0.0  0.000000e+00         76.0  \n",
       "number_inpatient                 0.0          0.0  1.000000e+00         21.0  \n",
       "diag_1                         410.0        440.0  5.990000e+02        999.0  \n",
       "diag_2                         276.0        425.0  5.300000e+02        999.0  \n",
       "diag_3                         272.0        403.0  4.960000e+02        999.0  \n",
       "number_diagnoses                 6.0          8.0  9.000000e+00         16.0  "
      ]
     },
     "execution_count": 6,
     "metadata": {},
     "output_type": "execute_result"
    }
   ],
   "source": [
    "df.describe().transpose()"
   ]
  },
  {
   "cell_type": "markdown",
   "metadata": {},
   "source": [
    "### Drop columns\n",
    "Drop attributes like IDs and other irrelevant attributes"
   ]
  },
  {
   "cell_type": "code",
   "execution_count": 7,
   "metadata": {},
   "outputs": [],
   "source": [
    "bad_features = ['encounter_id', 'patient_nbr', 'weight', 'payer_code', 'admission_type_id', \n",
    "                'discharge_disposition_id', 'admission_source_id', 'number_outpatient', 'number_emergency', \n",
    "                'number_inpatient', 'number_diagnoses', 'examide', \n",
    "                'citoglipton', 'glyburide-metformin', 'glipizide-metformin', 'glimepiride-pioglitazone', \n",
    "                'metformin-rosiglitazone', 'metformin-pioglitazone', 'max_glu_serum', \n",
    "                'metformin', 'repaglinide', 'nateglinide', 'chlorpropamide', 'glimepiride', 'acetohexamide', \n",
    "                'glipizide', 'glyburide', 'tolbutamide', 'pioglitazone', 'rosiglitazone', 'acarbose', \n",
    "                'miglitol', 'troglitazone', 'tolazamide', 'examide', 'citoglipton']\n",
    "df.drop(bad_features, inplace=True, axis =1)"
   ]
  },
  {
   "cell_type": "markdown",
   "metadata": {},
   "source": [
    "### Replace missing values"
   ]
  },
  {
   "cell_type": "code",
   "execution_count": 8,
   "metadata": {
    "scrolled": true
   },
   "outputs": [
    {
     "data": {
      "text/html": [
       "<div>\n",
       "<style scoped>\n",
       "    .dataframe tbody tr th:only-of-type {\n",
       "        vertical-align: middle;\n",
       "    }\n",
       "\n",
       "    .dataframe tbody tr th {\n",
       "        vertical-align: top;\n",
       "    }\n",
       "\n",
       "    .dataframe thead th {\n",
       "        text-align: right;\n",
       "    }\n",
       "</style>\n",
       "<table border=\"1\" class=\"dataframe\">\n",
       "  <thead>\n",
       "    <tr style=\"text-align: right;\">\n",
       "      <th></th>\n",
       "      <th>0</th>\n",
       "      <th>1</th>\n",
       "      <th>2</th>\n",
       "      <th>3</th>\n",
       "      <th>4</th>\n",
       "      <th>5</th>\n",
       "      <th>6</th>\n",
       "      <th>7</th>\n",
       "      <th>8</th>\n",
       "      <th>9</th>\n",
       "      <th>...</th>\n",
       "      <th>101756</th>\n",
       "      <th>101757</th>\n",
       "      <th>101758</th>\n",
       "      <th>101759</th>\n",
       "      <th>101760</th>\n",
       "      <th>101761</th>\n",
       "      <th>101762</th>\n",
       "      <th>101763</th>\n",
       "      <th>101764</th>\n",
       "      <th>101765</th>\n",
       "    </tr>\n",
       "  </thead>\n",
       "  <tbody>\n",
       "    <tr>\n",
       "      <th>race</th>\n",
       "      <td>Caucasian</td>\n",
       "      <td>Caucasian</td>\n",
       "      <td>AfricanAmerican</td>\n",
       "      <td>Caucasian</td>\n",
       "      <td>Caucasian</td>\n",
       "      <td>Caucasian</td>\n",
       "      <td>Caucasian</td>\n",
       "      <td>Caucasian</td>\n",
       "      <td>Caucasian</td>\n",
       "      <td>Caucasian</td>\n",
       "      <td>...</td>\n",
       "      <td>Other</td>\n",
       "      <td>Caucasian</td>\n",
       "      <td>Caucasian</td>\n",
       "      <td>Caucasian</td>\n",
       "      <td>AfricanAmerican</td>\n",
       "      <td>AfricanAmerican</td>\n",
       "      <td>AfricanAmerican</td>\n",
       "      <td>Caucasian</td>\n",
       "      <td>Caucasian</td>\n",
       "      <td>Caucasian</td>\n",
       "    </tr>\n",
       "    <tr>\n",
       "      <th>gender</th>\n",
       "      <td>Female</td>\n",
       "      <td>Female</td>\n",
       "      <td>Female</td>\n",
       "      <td>Male</td>\n",
       "      <td>Male</td>\n",
       "      <td>Male</td>\n",
       "      <td>Male</td>\n",
       "      <td>Male</td>\n",
       "      <td>Female</td>\n",
       "      <td>Female</td>\n",
       "      <td>...</td>\n",
       "      <td>Female</td>\n",
       "      <td>Female</td>\n",
       "      <td>Female</td>\n",
       "      <td>Male</td>\n",
       "      <td>Female</td>\n",
       "      <td>Male</td>\n",
       "      <td>Female</td>\n",
       "      <td>Male</td>\n",
       "      <td>Female</td>\n",
       "      <td>Male</td>\n",
       "    </tr>\n",
       "    <tr>\n",
       "      <th>age</th>\n",
       "      <td>[0-10)</td>\n",
       "      <td>[10-20)</td>\n",
       "      <td>[20-30)</td>\n",
       "      <td>[30-40)</td>\n",
       "      <td>[40-50)</td>\n",
       "      <td>[50-60)</td>\n",
       "      <td>[60-70)</td>\n",
       "      <td>[70-80)</td>\n",
       "      <td>[80-90)</td>\n",
       "      <td>[90-100)</td>\n",
       "      <td>...</td>\n",
       "      <td>[60-70)</td>\n",
       "      <td>[70-80)</td>\n",
       "      <td>[80-90)</td>\n",
       "      <td>[80-90)</td>\n",
       "      <td>[60-70)</td>\n",
       "      <td>[70-80)</td>\n",
       "      <td>[80-90)</td>\n",
       "      <td>[70-80)</td>\n",
       "      <td>[80-90)</td>\n",
       "      <td>[70-80)</td>\n",
       "    </tr>\n",
       "    <tr>\n",
       "      <th>time_in_hospital</th>\n",
       "      <td>1</td>\n",
       "      <td>3</td>\n",
       "      <td>2</td>\n",
       "      <td>2</td>\n",
       "      <td>1</td>\n",
       "      <td>3</td>\n",
       "      <td>4</td>\n",
       "      <td>5</td>\n",
       "      <td>13</td>\n",
       "      <td>12</td>\n",
       "      <td>...</td>\n",
       "      <td>2</td>\n",
       "      <td>5</td>\n",
       "      <td>5</td>\n",
       "      <td>1</td>\n",
       "      <td>6</td>\n",
       "      <td>3</td>\n",
       "      <td>5</td>\n",
       "      <td>1</td>\n",
       "      <td>10</td>\n",
       "      <td>6</td>\n",
       "    </tr>\n",
       "    <tr>\n",
       "      <th>medical_specialty</th>\n",
       "      <td>Pediatrics-Endocrinology</td>\n",
       "      <td>General</td>\n",
       "      <td>General</td>\n",
       "      <td>General</td>\n",
       "      <td>General</td>\n",
       "      <td>General</td>\n",
       "      <td>General</td>\n",
       "      <td>General</td>\n",
       "      <td>General</td>\n",
       "      <td>InternalMedicine</td>\n",
       "      <td>...</td>\n",
       "      <td>General</td>\n",
       "      <td>General</td>\n",
       "      <td>General</td>\n",
       "      <td>General</td>\n",
       "      <td>General</td>\n",
       "      <td>General</td>\n",
       "      <td>General</td>\n",
       "      <td>General</td>\n",
       "      <td>Surgery-General</td>\n",
       "      <td>General</td>\n",
       "    </tr>\n",
       "    <tr>\n",
       "      <th>num_lab_procedures</th>\n",
       "      <td>41</td>\n",
       "      <td>59</td>\n",
       "      <td>11</td>\n",
       "      <td>44</td>\n",
       "      <td>51</td>\n",
       "      <td>31</td>\n",
       "      <td>70</td>\n",
       "      <td>73</td>\n",
       "      <td>68</td>\n",
       "      <td>33</td>\n",
       "      <td>...</td>\n",
       "      <td>46</td>\n",
       "      <td>21</td>\n",
       "      <td>76</td>\n",
       "      <td>1</td>\n",
       "      <td>45</td>\n",
       "      <td>51</td>\n",
       "      <td>33</td>\n",
       "      <td>53</td>\n",
       "      <td>45</td>\n",
       "      <td>13</td>\n",
       "    </tr>\n",
       "    <tr>\n",
       "      <th>num_procedures</th>\n",
       "      <td>0</td>\n",
       "      <td>0</td>\n",
       "      <td>5</td>\n",
       "      <td>1</td>\n",
       "      <td>0</td>\n",
       "      <td>6</td>\n",
       "      <td>1</td>\n",
       "      <td>0</td>\n",
       "      <td>2</td>\n",
       "      <td>3</td>\n",
       "      <td>...</td>\n",
       "      <td>6</td>\n",
       "      <td>1</td>\n",
       "      <td>1</td>\n",
       "      <td>0</td>\n",
       "      <td>1</td>\n",
       "      <td>0</td>\n",
       "      <td>3</td>\n",
       "      <td>0</td>\n",
       "      <td>2</td>\n",
       "      <td>3</td>\n",
       "    </tr>\n",
       "    <tr>\n",
       "      <th>num_medications</th>\n",
       "      <td>1</td>\n",
       "      <td>18</td>\n",
       "      <td>13</td>\n",
       "      <td>16</td>\n",
       "      <td>8</td>\n",
       "      <td>16</td>\n",
       "      <td>21</td>\n",
       "      <td>12</td>\n",
       "      <td>28</td>\n",
       "      <td>18</td>\n",
       "      <td>...</td>\n",
       "      <td>17</td>\n",
       "      <td>16</td>\n",
       "      <td>22</td>\n",
       "      <td>15</td>\n",
       "      <td>25</td>\n",
       "      <td>16</td>\n",
       "      <td>18</td>\n",
       "      <td>9</td>\n",
       "      <td>21</td>\n",
       "      <td>3</td>\n",
       "    </tr>\n",
       "    <tr>\n",
       "      <th>diag_1</th>\n",
       "      <td>250.83</td>\n",
       "      <td>276</td>\n",
       "      <td>648</td>\n",
       "      <td>8</td>\n",
       "      <td>197</td>\n",
       "      <td>414</td>\n",
       "      <td>414</td>\n",
       "      <td>428</td>\n",
       "      <td>398</td>\n",
       "      <td>434</td>\n",
       "      <td>...</td>\n",
       "      <td>996</td>\n",
       "      <td>491</td>\n",
       "      <td>292</td>\n",
       "      <td>435</td>\n",
       "      <td>345</td>\n",
       "      <td>250.13</td>\n",
       "      <td>560</td>\n",
       "      <td>38</td>\n",
       "      <td>996</td>\n",
       "      <td>530</td>\n",
       "    </tr>\n",
       "    <tr>\n",
       "      <th>diag_2</th>\n",
       "      <td>NaN</td>\n",
       "      <td>250.01</td>\n",
       "      <td>250</td>\n",
       "      <td>250.43</td>\n",
       "      <td>157</td>\n",
       "      <td>411</td>\n",
       "      <td>411</td>\n",
       "      <td>492</td>\n",
       "      <td>427</td>\n",
       "      <td>198</td>\n",
       "      <td>...</td>\n",
       "      <td>585</td>\n",
       "      <td>518</td>\n",
       "      <td>8</td>\n",
       "      <td>784</td>\n",
       "      <td>438</td>\n",
       "      <td>291</td>\n",
       "      <td>276</td>\n",
       "      <td>590</td>\n",
       "      <td>285</td>\n",
       "      <td>530</td>\n",
       "    </tr>\n",
       "    <tr>\n",
       "      <th>diag_3</th>\n",
       "      <td>NaN</td>\n",
       "      <td>255</td>\n",
       "      <td>NaN</td>\n",
       "      <td>403</td>\n",
       "      <td>250</td>\n",
       "      <td>250</td>\n",
       "      <td>NaN</td>\n",
       "      <td>250</td>\n",
       "      <td>38</td>\n",
       "      <td>486</td>\n",
       "      <td>...</td>\n",
       "      <td>403</td>\n",
       "      <td>511</td>\n",
       "      <td>304</td>\n",
       "      <td>250</td>\n",
       "      <td>412</td>\n",
       "      <td>458</td>\n",
       "      <td>787</td>\n",
       "      <td>296</td>\n",
       "      <td>998</td>\n",
       "      <td>787</td>\n",
       "    </tr>\n",
       "    <tr>\n",
       "      <th>A1Cresult</th>\n",
       "      <td>None</td>\n",
       "      <td>None</td>\n",
       "      <td>None</td>\n",
       "      <td>None</td>\n",
       "      <td>None</td>\n",
       "      <td>None</td>\n",
       "      <td>None</td>\n",
       "      <td>None</td>\n",
       "      <td>None</td>\n",
       "      <td>None</td>\n",
       "      <td>...</td>\n",
       "      <td>None</td>\n",
       "      <td>None</td>\n",
       "      <td>None</td>\n",
       "      <td>None</td>\n",
       "      <td>None</td>\n",
       "      <td>&gt;8</td>\n",
       "      <td>None</td>\n",
       "      <td>None</td>\n",
       "      <td>None</td>\n",
       "      <td>None</td>\n",
       "    </tr>\n",
       "    <tr>\n",
       "      <th>insulin</th>\n",
       "      <td>No</td>\n",
       "      <td>Up</td>\n",
       "      <td>No</td>\n",
       "      <td>Up</td>\n",
       "      <td>Steady</td>\n",
       "      <td>Steady</td>\n",
       "      <td>Steady</td>\n",
       "      <td>No</td>\n",
       "      <td>Steady</td>\n",
       "      <td>Steady</td>\n",
       "      <td>...</td>\n",
       "      <td>Steady</td>\n",
       "      <td>Steady</td>\n",
       "      <td>Up</td>\n",
       "      <td>Up</td>\n",
       "      <td>Down</td>\n",
       "      <td>Down</td>\n",
       "      <td>Steady</td>\n",
       "      <td>Down</td>\n",
       "      <td>Up</td>\n",
       "      <td>No</td>\n",
       "    </tr>\n",
       "    <tr>\n",
       "      <th>change</th>\n",
       "      <td>No</td>\n",
       "      <td>Ch</td>\n",
       "      <td>No</td>\n",
       "      <td>Ch</td>\n",
       "      <td>Ch</td>\n",
       "      <td>No</td>\n",
       "      <td>Ch</td>\n",
       "      <td>No</td>\n",
       "      <td>Ch</td>\n",
       "      <td>Ch</td>\n",
       "      <td>...</td>\n",
       "      <td>No</td>\n",
       "      <td>No</td>\n",
       "      <td>Ch</td>\n",
       "      <td>Ch</td>\n",
       "      <td>Ch</td>\n",
       "      <td>Ch</td>\n",
       "      <td>No</td>\n",
       "      <td>Ch</td>\n",
       "      <td>Ch</td>\n",
       "      <td>No</td>\n",
       "    </tr>\n",
       "    <tr>\n",
       "      <th>diabetesMed</th>\n",
       "      <td>No</td>\n",
       "      <td>Yes</td>\n",
       "      <td>Yes</td>\n",
       "      <td>Yes</td>\n",
       "      <td>Yes</td>\n",
       "      <td>Yes</td>\n",
       "      <td>Yes</td>\n",
       "      <td>Yes</td>\n",
       "      <td>Yes</td>\n",
       "      <td>Yes</td>\n",
       "      <td>...</td>\n",
       "      <td>Yes</td>\n",
       "      <td>Yes</td>\n",
       "      <td>Yes</td>\n",
       "      <td>Yes</td>\n",
       "      <td>Yes</td>\n",
       "      <td>Yes</td>\n",
       "      <td>Yes</td>\n",
       "      <td>Yes</td>\n",
       "      <td>Yes</td>\n",
       "      <td>No</td>\n",
       "    </tr>\n",
       "    <tr>\n",
       "      <th>readmitted</th>\n",
       "      <td>NO</td>\n",
       "      <td>&gt;30</td>\n",
       "      <td>NO</td>\n",
       "      <td>NO</td>\n",
       "      <td>NO</td>\n",
       "      <td>&gt;30</td>\n",
       "      <td>NO</td>\n",
       "      <td>&gt;30</td>\n",
       "      <td>NO</td>\n",
       "      <td>NO</td>\n",
       "      <td>...</td>\n",
       "      <td>&gt;30</td>\n",
       "      <td>NO</td>\n",
       "      <td>NO</td>\n",
       "      <td>NO</td>\n",
       "      <td>&gt;30</td>\n",
       "      <td>&gt;30</td>\n",
       "      <td>NO</td>\n",
       "      <td>NO</td>\n",
       "      <td>NO</td>\n",
       "      <td>NO</td>\n",
       "    </tr>\n",
       "  </tbody>\n",
       "</table>\n",
       "<p>16 rows × 101766 columns</p>\n",
       "</div>"
      ],
      "text/plain": [
       "                                      0          1                2       \\\n",
       "race                               Caucasian  Caucasian  AfricanAmerican   \n",
       "gender                                Female     Female           Female   \n",
       "age                                   [0-10)    [10-20)          [20-30)   \n",
       "time_in_hospital                           1          3                2   \n",
       "medical_specialty   Pediatrics-Endocrinology    General          General   \n",
       "num_lab_procedures                        41         59               11   \n",
       "num_procedures                             0          0                5   \n",
       "num_medications                            1         18               13   \n",
       "diag_1                                250.83        276              648   \n",
       "diag_2                                   NaN     250.01              250   \n",
       "diag_3                                   NaN        255              NaN   \n",
       "A1Cresult                               None       None             None   \n",
       "insulin                                   No         Up               No   \n",
       "change                                    No         Ch               No   \n",
       "diabetesMed                               No        Yes              Yes   \n",
       "readmitted                                NO        >30               NO   \n",
       "\n",
       "                       3          4          5          6          7       \\\n",
       "race                Caucasian  Caucasian  Caucasian  Caucasian  Caucasian   \n",
       "gender                   Male       Male       Male       Male       Male   \n",
       "age                   [30-40)    [40-50)    [50-60)    [60-70)    [70-80)   \n",
       "time_in_hospital            2          1          3          4          5   \n",
       "medical_specialty     General    General    General    General    General   \n",
       "num_lab_procedures         44         51         31         70         73   \n",
       "num_procedures              1          0          6          1          0   \n",
       "num_medications            16          8         16         21         12   \n",
       "diag_1                      8        197        414        414        428   \n",
       "diag_2                 250.43        157        411        411        492   \n",
       "diag_3                    403        250        250        NaN        250   \n",
       "A1Cresult                None       None       None       None       None   \n",
       "insulin                    Up     Steady     Steady     Steady         No   \n",
       "change                     Ch         Ch         No         Ch         No   \n",
       "diabetesMed               Yes        Yes        Yes        Yes        Yes   \n",
       "readmitted                 NO         NO        >30         NO        >30   \n",
       "\n",
       "                       8                 9         ...       101756  \\\n",
       "race                Caucasian         Caucasian    ...        Other   \n",
       "gender                 Female            Female    ...       Female   \n",
       "age                   [80-90)          [90-100)    ...      [60-70)   \n",
       "time_in_hospital           13                12    ...            2   \n",
       "medical_specialty     General  InternalMedicine    ...      General   \n",
       "num_lab_procedures         68                33    ...           46   \n",
       "num_procedures              2                 3    ...            6   \n",
       "num_medications            28                18    ...           17   \n",
       "diag_1                    398               434    ...          996   \n",
       "diag_2                    427               198    ...          585   \n",
       "diag_3                     38               486    ...          403   \n",
       "A1Cresult                None              None    ...         None   \n",
       "insulin                Steady            Steady    ...       Steady   \n",
       "change                     Ch                Ch    ...           No   \n",
       "diabetesMed               Yes               Yes    ...          Yes   \n",
       "readmitted                 NO                NO    ...          >30   \n",
       "\n",
       "                       101757     101758     101759           101760  \\\n",
       "race                Caucasian  Caucasian  Caucasian  AfricanAmerican   \n",
       "gender                 Female     Female       Male           Female   \n",
       "age                   [70-80)    [80-90)    [80-90)          [60-70)   \n",
       "time_in_hospital            5          5          1                6   \n",
       "medical_specialty     General    General    General          General   \n",
       "num_lab_procedures         21         76          1               45   \n",
       "num_procedures              1          1          0                1   \n",
       "num_medications            16         22         15               25   \n",
       "diag_1                    491        292        435              345   \n",
       "diag_2                    518          8        784              438   \n",
       "diag_3                    511        304        250              412   \n",
       "A1Cresult                None       None       None             None   \n",
       "insulin                Steady         Up         Up             Down   \n",
       "change                     No         Ch         Ch               Ch   \n",
       "diabetesMed               Yes        Yes        Yes              Yes   \n",
       "readmitted                 NO         NO         NO              >30   \n",
       "\n",
       "                             101761           101762     101763  \\\n",
       "race                AfricanAmerican  AfricanAmerican  Caucasian   \n",
       "gender                         Male           Female       Male   \n",
       "age                         [70-80)          [80-90)    [70-80)   \n",
       "time_in_hospital                  3                5          1   \n",
       "medical_specialty           General          General    General   \n",
       "num_lab_procedures               51               33         53   \n",
       "num_procedures                    0                3          0   \n",
       "num_medications                  16               18          9   \n",
       "diag_1                       250.13              560         38   \n",
       "diag_2                          291              276        590   \n",
       "diag_3                          458              787        296   \n",
       "A1Cresult                        >8             None       None   \n",
       "insulin                        Down           Steady       Down   \n",
       "change                           Ch               No         Ch   \n",
       "diabetesMed                     Yes              Yes        Yes   \n",
       "readmitted                      >30               NO         NO   \n",
       "\n",
       "                             101764     101765  \n",
       "race                      Caucasian  Caucasian  \n",
       "gender                       Female       Male  \n",
       "age                         [80-90)    [70-80)  \n",
       "time_in_hospital                 10          6  \n",
       "medical_specialty   Surgery-General    General  \n",
       "num_lab_procedures               45         13  \n",
       "num_procedures                    2          3  \n",
       "num_medications                  21          3  \n",
       "diag_1                          996        530  \n",
       "diag_2                          285        530  \n",
       "diag_3                          998        787  \n",
       "A1Cresult                      None       None  \n",
       "insulin                          Up         No  \n",
       "change                           Ch         No  \n",
       "diabetesMed                     Yes         No  \n",
       "readmitted                       NO         NO  \n",
       "\n",
       "[16 rows x 101766 columns]"
      ]
     },
     "execution_count": 8,
     "metadata": {},
     "output_type": "execute_result"
    }
   ],
   "source": [
    "df['medical_specialty'] = df['medical_specialty'].replace([np.nan, ''], 'General')\n",
    "df['race'] = df['race'].replace(np.nan, 'Other')\n",
    "# df['readmitted'] = df['readmitted'].replace(['<30'], 'YES')\n",
    "# df['readmitted'] = df['readmitted'].replace(['>30'], 'YES')\n",
    "df.transpose()"
   ]
  },
  {
   "cell_type": "markdown",
   "metadata": {},
   "source": [
    "### Print the unique value counts for readmitted"
   ]
  },
  {
   "cell_type": "code",
   "execution_count": 9,
   "metadata": {},
   "outputs": [
    {
     "data": {
      "text/plain": [
       "NO     54864\n",
       ">30    35545\n",
       "<30    11357\n",
       "Name: readmitted, dtype: int64"
      ]
     },
     "execution_count": 9,
     "metadata": {},
     "output_type": "execute_result"
    }
   ],
   "source": [
    "df['readmitted'].value_counts()"
   ]
  },
  {
   "cell_type": "markdown",
   "metadata": {},
   "source": [
    "### Categorical to numeric"
   ]
  },
  {
   "cell_type": "code",
   "execution_count": 10,
   "metadata": {},
   "outputs": [
    {
     "data": {
      "text/html": [
       "<div>\n",
       "<style scoped>\n",
       "    .dataframe tbody tr th:only-of-type {\n",
       "        vertical-align: middle;\n",
       "    }\n",
       "\n",
       "    .dataframe tbody tr th {\n",
       "        vertical-align: top;\n",
       "    }\n",
       "\n",
       "    .dataframe thead th {\n",
       "        text-align: right;\n",
       "    }\n",
       "</style>\n",
       "<table border=\"1\" class=\"dataframe\">\n",
       "  <thead>\n",
       "    <tr style=\"text-align: right;\">\n",
       "      <th></th>\n",
       "      <th>time_in_hospital</th>\n",
       "      <th>num_lab_procedures</th>\n",
       "      <th>num_procedures</th>\n",
       "      <th>num_medications</th>\n",
       "      <th>diag_1</th>\n",
       "      <th>diag_2</th>\n",
       "      <th>diag_3</th>\n",
       "      <th>change</th>\n",
       "      <th>race_AfricanAmerican</th>\n",
       "      <th>race_Asian</th>\n",
       "      <th>...</th>\n",
       "      <th>medical_specialty_Surgery-Thoracic</th>\n",
       "      <th>medical_specialty_Surgery-Vascular</th>\n",
       "      <th>medical_specialty_SurgicalSpecialty</th>\n",
       "      <th>medical_specialty_Urology</th>\n",
       "      <th>A1Cresult_&gt;7</th>\n",
       "      <th>A1Cresult_&gt;8</th>\n",
       "      <th>A1Cresult_None</th>\n",
       "      <th>A1Cresult_Norm</th>\n",
       "      <th>diabetesMed_No</th>\n",
       "      <th>diabetesMed_Yes</th>\n",
       "    </tr>\n",
       "  </thead>\n",
       "  <tbody>\n",
       "    <tr>\n",
       "      <th>0</th>\n",
       "      <td>1</td>\n",
       "      <td>41</td>\n",
       "      <td>0</td>\n",
       "      <td>1</td>\n",
       "      <td>250.83</td>\n",
       "      <td>438.674883</td>\n",
       "      <td>418.179285</td>\n",
       "      <td>1</td>\n",
       "      <td>0</td>\n",
       "      <td>0</td>\n",
       "      <td>...</td>\n",
       "      <td>0</td>\n",
       "      <td>0</td>\n",
       "      <td>0</td>\n",
       "      <td>0</td>\n",
       "      <td>0</td>\n",
       "      <td>0</td>\n",
       "      <td>1</td>\n",
       "      <td>0</td>\n",
       "      <td>1</td>\n",
       "      <td>0</td>\n",
       "    </tr>\n",
       "    <tr>\n",
       "      <th>1</th>\n",
       "      <td>3</td>\n",
       "      <td>59</td>\n",
       "      <td>0</td>\n",
       "      <td>18</td>\n",
       "      <td>276.00</td>\n",
       "      <td>250.010000</td>\n",
       "      <td>255.000000</td>\n",
       "      <td>0</td>\n",
       "      <td>0</td>\n",
       "      <td>0</td>\n",
       "      <td>...</td>\n",
       "      <td>0</td>\n",
       "      <td>0</td>\n",
       "      <td>0</td>\n",
       "      <td>0</td>\n",
       "      <td>0</td>\n",
       "      <td>0</td>\n",
       "      <td>1</td>\n",
       "      <td>0</td>\n",
       "      <td>0</td>\n",
       "      <td>1</td>\n",
       "    </tr>\n",
       "    <tr>\n",
       "      <th>2</th>\n",
       "      <td>2</td>\n",
       "      <td>11</td>\n",
       "      <td>5</td>\n",
       "      <td>13</td>\n",
       "      <td>648.00</td>\n",
       "      <td>250.000000</td>\n",
       "      <td>418.179285</td>\n",
       "      <td>1</td>\n",
       "      <td>1</td>\n",
       "      <td>0</td>\n",
       "      <td>...</td>\n",
       "      <td>0</td>\n",
       "      <td>0</td>\n",
       "      <td>0</td>\n",
       "      <td>0</td>\n",
       "      <td>0</td>\n",
       "      <td>0</td>\n",
       "      <td>1</td>\n",
       "      <td>0</td>\n",
       "      <td>0</td>\n",
       "      <td>1</td>\n",
       "    </tr>\n",
       "    <tr>\n",
       "      <th>3</th>\n",
       "      <td>2</td>\n",
       "      <td>44</td>\n",
       "      <td>1</td>\n",
       "      <td>16</td>\n",
       "      <td>8.00</td>\n",
       "      <td>250.430000</td>\n",
       "      <td>403.000000</td>\n",
       "      <td>0</td>\n",
       "      <td>0</td>\n",
       "      <td>0</td>\n",
       "      <td>...</td>\n",
       "      <td>0</td>\n",
       "      <td>0</td>\n",
       "      <td>0</td>\n",
       "      <td>0</td>\n",
       "      <td>0</td>\n",
       "      <td>0</td>\n",
       "      <td>1</td>\n",
       "      <td>0</td>\n",
       "      <td>0</td>\n",
       "      <td>1</td>\n",
       "    </tr>\n",
       "    <tr>\n",
       "      <th>4</th>\n",
       "      <td>1</td>\n",
       "      <td>51</td>\n",
       "      <td>0</td>\n",
       "      <td>8</td>\n",
       "      <td>197.00</td>\n",
       "      <td>157.000000</td>\n",
       "      <td>250.000000</td>\n",
       "      <td>0</td>\n",
       "      <td>0</td>\n",
       "      <td>0</td>\n",
       "      <td>...</td>\n",
       "      <td>0</td>\n",
       "      <td>0</td>\n",
       "      <td>0</td>\n",
       "      <td>0</td>\n",
       "      <td>0</td>\n",
       "      <td>0</td>\n",
       "      <td>1</td>\n",
       "      <td>0</td>\n",
       "      <td>0</td>\n",
       "      <td>1</td>\n",
       "    </tr>\n",
       "  </tbody>\n",
       "</table>\n",
       "<p>5 rows × 109 columns</p>\n",
       "</div>"
      ],
      "text/plain": [
       "   time_in_hospital  num_lab_procedures  num_procedures  num_medications  \\\n",
       "0                 1                  41               0                1   \n",
       "1                 3                  59               0               18   \n",
       "2                 2                  11               5               13   \n",
       "3                 2                  44               1               16   \n",
       "4                 1                  51               0                8   \n",
       "\n",
       "   diag_1      diag_2      diag_3  change  race_AfricanAmerican  race_Asian  \\\n",
       "0  250.83  438.674883  418.179285       1                     0           0   \n",
       "1  276.00  250.010000  255.000000       0                     0           0   \n",
       "2  648.00  250.000000  418.179285       1                     1           0   \n",
       "3    8.00  250.430000  403.000000       0                     0           0   \n",
       "4  197.00  157.000000  250.000000       0                     0           0   \n",
       "\n",
       "        ...         medical_specialty_Surgery-Thoracic  \\\n",
       "0       ...                                          0   \n",
       "1       ...                                          0   \n",
       "2       ...                                          0   \n",
       "3       ...                                          0   \n",
       "4       ...                                          0   \n",
       "\n",
       "   medical_specialty_Surgery-Vascular  medical_specialty_SurgicalSpecialty  \\\n",
       "0                                   0                                    0   \n",
       "1                                   0                                    0   \n",
       "2                                   0                                    0   \n",
       "3                                   0                                    0   \n",
       "4                                   0                                    0   \n",
       "\n",
       "   medical_specialty_Urology  A1Cresult_>7  A1Cresult_>8  A1Cresult_None  \\\n",
       "0                          0             0             0               1   \n",
       "1                          0             0             0               1   \n",
       "2                          0             0             0               1   \n",
       "3                          0             0             0               1   \n",
       "4                          0             0             0               1   \n",
       "\n",
       "   A1Cresult_Norm  diabetesMed_No  diabetesMed_Yes  \n",
       "0               0               1                0  \n",
       "1               0               0                1  \n",
       "2               0               0                1  \n",
       "3               0               0                1  \n",
       "4               0               0                1  \n",
       "\n",
       "[5 rows x 109 columns]"
      ]
     },
     "execution_count": 10,
     "metadata": {},
     "output_type": "execute_result"
    }
   ],
   "source": [
    "dummy_columns = ['race', 'gender','age', 'insulin', 'medical_specialty', 'A1Cresult' , 'diabetesMed' ]\n",
    "df_dummies = pd.get_dummies(df, columns=dummy_columns)\n",
    "\n",
    "df_dummies['readmitted'] = pd.Categorical(df_dummies['readmitted']).codes\n",
    "df_target = df_dummies['readmitted']\n",
    "\n",
    "\n",
    "# Drop the target variable from dataframe\n",
    "df_dummies.drop('readmitted' , inplace = True, axis =1)\n",
    "df_attr = df_dummies\n",
    "\n",
    "# Concvert binary categorical values to numeric\n",
    "# df_attr['diabetesMed'] = pd.Categorical(df_attr['diabetesMed']).codes\n",
    "df_attr['change'] = pd.Categorical(df_attr['change']).codes\n",
    "# Fill in missing values for diagnosis measures\n",
    "\n",
    "df_attr['diag_1']= df_attr['diag_1'].fillna((df_attr['diag_1'].mean()))\n",
    "df_attr['diag_2']= df_attr['diag_2'].fillna((df_attr['diag_2'].mean()))\n",
    "df_attr['diag_3']= df_attr['diag_3'].fillna((df_attr['diag_3'].mean()))\n",
    "\n",
    "df_attr.head()"
   ]
  },
  {
   "cell_type": "code",
   "execution_count": 11,
   "metadata": {},
   "outputs": [],
   "source": [
    "# for attr in df_attr.columns.values:\n",
    "#     report_missing_value(df_attr, attr)"
   ]
  },
  {
   "cell_type": "markdown",
   "metadata": {},
   "source": [
    "### Split attribues for training and testing"
   ]
  },
  {
   "cell_type": "code",
   "execution_count": 12,
   "metadata": {},
   "outputs": [],
   "source": [
    "attr_train, attr_test, target_train, target_test = train_test_split(df_attr , df_target)"
   ]
  },
  {
   "cell_type": "markdown",
   "metadata": {},
   "source": [
    "### Models\n",
    "Fit various models and check results"
   ]
  },
  {
   "cell_type": "code",
   "execution_count": 13,
   "metadata": {},
   "outputs": [],
   "source": [
    "models = [('Decision Tree', DecisionTreeClassifier(max_depth= 5), 'red'), \n",
    "          ('Logistic Regression', LogisticRegression(), 'green'), \n",
    "          ('Random Forest', RandomForestClassifier(), 'yellow'),\n",
    "          ('Naive Bayes', MultinomialNB(), 'magenta'),\n",
    "          ('Neural Network', MLPClassifier(hidden_layer_sizes = 8,  max_iter= 500), 'blue')]\n",
    "         \n",
    "\n",
    "predicted_results = {}\n",
    "time_elapsed = []\n",
    "for model_name, model, _ in models:\n",
    "    \n",
    "    start = time.time()\n",
    "    \n",
    "#     cross_val_score\n",
    "    \n",
    "    model.fit(attr_train, target_train)\n",
    "    target_predict = model.predict(attr_test)\n",
    "    \n",
    "#     scores = cross_val_score(model, df_attr, df_target, cv=5)\n",
    "#     print(model_name)\n",
    "#     print(scores.mean())\n",
    "    end = time.time()\n",
    "    \n",
    "    time_elapsed.append(end - start)\n",
    "    predicted_results[model_name] = target_predict"
   ]
  },
  {
   "cell_type": "code",
   "execution_count": 14,
   "metadata": {},
   "outputs": [
    {
     "name": "stdout",
     "output_type": "stream",
     "text": [
      "Decision Tree\n",
      "[[    0     5]\n",
      " [    1  2435]\n",
      " [    2 23002]]\n",
      "Logistic Regression\n",
      "[[    1  1605]\n",
      " [    2 23837]]\n",
      "Random Forest\n",
      "[[    0   686]\n",
      " [    1  8680]\n",
      " [    2 16076]]\n",
      "Naive Bayes\n",
      "[[    0  8520]\n",
      " [    1  3366]\n",
      " [    2 13556]]\n",
      "Neural Network\n",
      "[[    1 12317]\n",
      " [    2 13125]]\n"
     ]
    }
   ],
   "source": [
    "for key, value in predicted_results.items():\n",
    "    print(key)\n",
    "    print(itemfreq(value))"
   ]
  },
  {
   "cell_type": "markdown",
   "metadata": {},
   "source": [
    "### Results\n",
    "Show the results of various models"
   ]
  },
  {
   "cell_type": "code",
   "execution_count": 15,
   "metadata": {},
   "outputs": [
    {
     "data": {
      "text/markdown": [
       "**Decision Tree**"
      ],
      "text/plain": [
       "<IPython.core.display.Markdown object>"
      ]
     },
     "metadata": {},
     "output_type": "display_data"
    },
    {
     "data": {
      "text/markdown": [
       "**Accuracy Score**"
      ],
      "text/plain": [
       "<IPython.core.display.Markdown object>"
      ]
     },
     "metadata": {},
     "output_type": "display_data"
    },
    {
     "name": "stdout",
     "output_type": "stream",
     "text": [
      "0.539\n",
      "\n"
     ]
    },
    {
     "data": {
      "text/markdown": [
       "**Time taken**"
      ],
      "text/plain": [
       "<IPython.core.display.Markdown object>"
      ]
     },
     "metadata": {},
     "output_type": "display_data"
    },
    {
     "name": "stdout",
     "output_type": "stream",
     "text": [
      "0.413 ms\n"
     ]
    },
    {
     "data": {
      "text/markdown": [
       "**Confusion Matrix**"
      ],
      "text/plain": [
       "<IPython.core.display.Markdown object>"
      ]
     },
     "metadata": {},
     "output_type": "display_data"
    },
    {
     "name": "stdout",
     "output_type": "stream",
     "text": [
      "Predicted  0     1      2\n",
      "Actual                   \n",
      "0          1   330   2440\n",
      "1          2  1060   7909\n",
      "2          2  1045  12653\n"
     ]
    },
    {
     "data": {
      "text/markdown": [
       "**Classification Report**"
      ],
      "text/plain": [
       "<IPython.core.display.Markdown object>"
      ]
     },
     "metadata": {},
     "output_type": "display_data"
    },
    {
     "name": "stdout",
     "output_type": "stream",
     "text": [
      "             precision    recall  f1-score   support\n",
      "\n",
      "          0       0.20      0.00      0.00      2771\n",
      "          1       0.44      0.12      0.19      8971\n",
      "          2       0.55      0.92      0.69     13700\n",
      "\n",
      "avg / total       0.47      0.54      0.44     25442\n",
      "\n"
     ]
    },
    {
     "data": {
      "text/markdown": [
       "**Logistic Regression**"
      ],
      "text/plain": [
       "<IPython.core.display.Markdown object>"
      ]
     },
     "metadata": {},
     "output_type": "display_data"
    },
    {
     "data": {
      "text/markdown": [
       "**Accuracy Score**"
      ],
      "text/plain": [
       "<IPython.core.display.Markdown object>"
      ]
     },
     "metadata": {},
     "output_type": "display_data"
    },
    {
     "name": "stdout",
     "output_type": "stream",
     "text": [
      "0.539\n",
      "\n"
     ]
    },
    {
     "data": {
      "text/markdown": [
       "**Time taken**"
      ],
      "text/plain": [
       "<IPython.core.display.Markdown object>"
      ]
     },
     "metadata": {},
     "output_type": "display_data"
    },
    {
     "name": "stdout",
     "output_type": "stream",
     "text": [
      "5.699 ms\n"
     ]
    },
    {
     "data": {
      "text/markdown": [
       "**Confusion Matrix**"
      ],
      "text/plain": [
       "<IPython.core.display.Markdown object>"
      ]
     },
     "metadata": {},
     "output_type": "display_data"
    },
    {
     "name": "stdout",
     "output_type": "stream",
     "text": [
      "Predicted    1      2\n",
      "Actual               \n",
      "0          237   2534\n",
      "1          691   8280\n",
      "2          677  13023\n"
     ]
    },
    {
     "data": {
      "text/markdown": [
       "**Classification Report**"
      ],
      "text/plain": [
       "<IPython.core.display.Markdown object>"
      ]
     },
     "metadata": {},
     "output_type": "display_data"
    },
    {
     "name": "stdout",
     "output_type": "stream",
     "text": [
      "             precision    recall  f1-score   support\n",
      "\n",
      "          0       0.00      0.00      0.00      2771\n",
      "          1       0.43      0.08      0.13      8971\n",
      "          2       0.55      0.95      0.69     13700\n",
      "\n",
      "avg / total       0.45      0.54      0.42     25442\n",
      "\n"
     ]
    },
    {
     "name": "stderr",
     "output_type": "stream",
     "text": [
      "/Library/Frameworks/Python.framework/Versions/3.6/lib/python3.6/site-packages/sklearn/metrics/classification.py:1135: UndefinedMetricWarning: Precision and F-score are ill-defined and being set to 0.0 in labels with no predicted samples.\n",
      "  'precision', 'predicted', average, warn_for)\n"
     ]
    },
    {
     "data": {
      "text/markdown": [
       "**Random Forest**"
      ],
      "text/plain": [
       "<IPython.core.display.Markdown object>"
      ]
     },
     "metadata": {},
     "output_type": "display_data"
    },
    {
     "data": {
      "text/markdown": [
       "**Accuracy Score**"
      ],
      "text/plain": [
       "<IPython.core.display.Markdown object>"
      ]
     },
     "metadata": {},
     "output_type": "display_data"
    },
    {
     "name": "stdout",
     "output_type": "stream",
     "text": [
      "0.498\n",
      "\n"
     ]
    },
    {
     "data": {
      "text/markdown": [
       "**Time taken**"
      ],
      "text/plain": [
       "<IPython.core.display.Markdown object>"
      ]
     },
     "metadata": {},
     "output_type": "display_data"
    },
    {
     "name": "stdout",
     "output_type": "stream",
     "text": [
      "1.835 ms\n"
     ]
    },
    {
     "data": {
      "text/markdown": [
       "**Confusion Matrix**"
      ],
      "text/plain": [
       "<IPython.core.display.Markdown object>"
      ]
     },
     "metadata": {},
     "output_type": "display_data"
    },
    {
     "name": "stdout",
     "output_type": "stream",
     "text": [
      "Predicted    0     1     2\n",
      "Actual                    \n",
      "0           91  1065  1615\n",
      "1          286  3396  5289\n",
      "2          309  4219  9172\n"
     ]
    },
    {
     "data": {
      "text/markdown": [
       "**Classification Report**"
      ],
      "text/plain": [
       "<IPython.core.display.Markdown object>"
      ]
     },
     "metadata": {},
     "output_type": "display_data"
    },
    {
     "name": "stdout",
     "output_type": "stream",
     "text": [
      "             precision    recall  f1-score   support\n",
      "\n",
      "          0       0.13      0.03      0.05      2771\n",
      "          1       0.39      0.38      0.38      8971\n",
      "          2       0.57      0.67      0.62     13700\n",
      "\n",
      "avg / total       0.46      0.50      0.47     25442\n",
      "\n"
     ]
    },
    {
     "data": {
      "text/markdown": [
       "**Naive Bayes**"
      ],
      "text/plain": [
       "<IPython.core.display.Markdown object>"
      ]
     },
     "metadata": {},
     "output_type": "display_data"
    },
    {
     "data": {
      "text/markdown": [
       "**Accuracy Score**"
      ],
      "text/plain": [
       "<IPython.core.display.Markdown object>"
      ]
     },
     "metadata": {},
     "output_type": "display_data"
    },
    {
     "name": "stdout",
     "output_type": "stream",
     "text": [
      "0.392\n",
      "\n"
     ]
    },
    {
     "data": {
      "text/markdown": [
       "**Time taken**"
      ],
      "text/plain": [
       "<IPython.core.display.Markdown object>"
      ]
     },
     "metadata": {},
     "output_type": "display_data"
    },
    {
     "name": "stdout",
     "output_type": "stream",
     "text": [
      "0.087 ms\n"
     ]
    },
    {
     "data": {
      "text/markdown": [
       "**Confusion Matrix**"
      ],
      "text/plain": [
       "<IPython.core.display.Markdown object>"
      ]
     },
     "metadata": {},
     "output_type": "display_data"
    },
    {
     "name": "stdout",
     "output_type": "stream",
     "text": [
      "Predicted     0     1     2\n",
      "Actual                     \n",
      "0          1020   381  1370\n",
      "1          3051  1339  4581\n",
      "2          4449  1646  7605\n"
     ]
    },
    {
     "data": {
      "text/markdown": [
       "**Classification Report**"
      ],
      "text/plain": [
       "<IPython.core.display.Markdown object>"
      ]
     },
     "metadata": {},
     "output_type": "display_data"
    },
    {
     "name": "stdout",
     "output_type": "stream",
     "text": [
      "             precision    recall  f1-score   support\n",
      "\n",
      "          0       0.12      0.37      0.18      2771\n",
      "          1       0.40      0.15      0.22      8971\n",
      "          2       0.56      0.56      0.56     13700\n",
      "\n",
      "avg / total       0.46      0.39      0.40     25442\n",
      "\n"
     ]
    },
    {
     "data": {
      "text/markdown": [
       "**Neural Network**"
      ],
      "text/plain": [
       "<IPython.core.display.Markdown object>"
      ]
     },
     "metadata": {},
     "output_type": "display_data"
    },
    {
     "data": {
      "text/markdown": [
       "**Accuracy Score**"
      ],
      "text/plain": [
       "<IPython.core.display.Markdown object>"
      ]
     },
     "metadata": {},
     "output_type": "display_data"
    },
    {
     "name": "stdout",
     "output_type": "stream",
     "text": [
      "0.498\n",
      "\n"
     ]
    },
    {
     "data": {
      "text/markdown": [
       "**Time taken**"
      ],
      "text/plain": [
       "<IPython.core.display.Markdown object>"
      ]
     },
     "metadata": {},
     "output_type": "display_data"
    },
    {
     "name": "stdout",
     "output_type": "stream",
     "text": [
      "2.479 ms\n"
     ]
    },
    {
     "data": {
      "text/markdown": [
       "**Confusion Matrix**"
      ],
      "text/plain": [
       "<IPython.core.display.Markdown object>"
      ]
     },
     "metadata": {},
     "output_type": "display_data"
    },
    {
     "name": "stdout",
     "output_type": "stream",
     "text": [
      "Predicted     1     2\n",
      "Actual               \n",
      "0          1565  1206\n",
      "1          4864  4107\n",
      "2          5888  7812\n"
     ]
    },
    {
     "data": {
      "text/markdown": [
       "**Classification Report**"
      ],
      "text/plain": [
       "<IPython.core.display.Markdown object>"
      ]
     },
     "metadata": {},
     "output_type": "display_data"
    },
    {
     "name": "stdout",
     "output_type": "stream",
     "text": [
      "             precision    recall  f1-score   support\n",
      "\n",
      "          0       0.00      0.00      0.00      2771\n",
      "          1       0.39      0.54      0.46      8971\n",
      "          2       0.60      0.57      0.58     13700\n",
      "\n",
      "avg / total       0.46      0.50      0.47     25442\n",
      "\n"
     ]
    }
   ],
   "source": [
    "fpr_list = []\n",
    "tpr_list = []\n",
    "confusion_matrix_list = []\n",
    "\n",
    "for idx, (model_name, model, _) in enumerate(models):\n",
    "    print_bold(model_name)\n",
    "    print_bold('Accuracy Score')\n",
    "    print(round(accuracy_score(target_test.values, predicted_results[model_name]),3), end='\\n\\n')\n",
    "    \n",
    "    print_bold('Time taken')\n",
    "    print(round(time_elapsed[idx], 3) , 'ms')\n",
    "    \n",
    "    display_confusion_matrix(target_test.values, predicted_results[model_name])\n",
    "    cm = confusion_matrix(target_test.values, predicted_results[model_name])\n",
    "    confusion_matrix_list.append(cm)\n",
    "    \n",
    "    print_bold('Classification Report')\n",
    "    print(classification_report(target_test, predicted_results[model_name]))"
   ]
  },
  {
   "cell_type": "markdown",
   "metadata": {},
   "source": [
    "### Analysis"
   ]
  },
  {
   "cell_type": "code",
   "execution_count": 16,
   "metadata": {},
   "outputs": [
    {
     "name": "stdout",
     "output_type": "stream",
     "text": [
      "Decision Tree TPR:0.998116760829 FPR:0.996978851964\n",
      "Logistic Regression TPR:1.0 FPR:1.0\n",
      "Random Forest TPR:0.922324823466 FPR:0.921280276817\n",
      "Naive Bayes TPR:0.305011389522 FPR:0.271948608137\n",
      "Neural Network TPR:1.0 FPR:1.0\n"
     ]
    },
    {
     "data": {
      "image/png": "[encoded data removed]",
      "text/plain": [
       "<matplotlib.figure.Figure at 0x11a39c080>"
      ]
     },
     "metadata": {},
     "output_type": "display_data"
    }
   ],
   "source": [
    "plot_roc_curve(confusion_matrix_list, models, 'False Positive Rate', 'True Positive Rate')"
   ]
  }
 ],
 "metadata": {
  "kernelspec": {
   "display_name": "Python 3",
   "language": "python",
   "name": "python3"
  },
  "language_info": {
   "codemirror_mode": {
    "name": "ipython",
    "version": 3
   },
   "file_extension": ".py",
   "mimetype": "text/x-python",
   "name": "python",
   "nbconvert_exporter": "python",
   "pygments_lexer": "ipython3",
   "version": "3.6.3"
  }
 },
 "nbformat": 4,
 "nbformat_minor": 2
}
